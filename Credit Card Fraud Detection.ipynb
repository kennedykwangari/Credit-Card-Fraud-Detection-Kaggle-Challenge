{
 "cells": [
  {
   "cell_type": "code",
   "execution_count": 2,
   "metadata": {},
   "outputs": [],
   "source": [
    "# here we will impor the libraries used for machine learning\n",
    "import numpy as np # linear algebra\n",
    "import pandas as pd # data processing, CSV file I/O (e.g. pd.read_csv), data manipulation as in SQL\n",
    "import matplotlib.pyplot as plt # this is used for the plot the graph \n",
    "import seaborn as sns # used for plot interactive graph. I like it most for plot\n",
    "%matplotlib inline\n",
    "\n",
    "from sklearn.linear_model import LogisticRegression # to apply the Logistic regression\n",
    "from sklearn.model_selection import train_test_split,GridSearchCV  # to split the data into two parts\n",
    "from sklearn.model_selection import KFold, cross_val_score  # use for K- fold cross validation\n",
    "from sklearn.model_selection import GridSearchCV# for tuning parameter\n",
    "from sklearn import metrics # for the check the error and accuracy of the model\n",
    "from sklearn.ensemble import RandomForestClassifier # for random forest classifier\n",
    "from sklearn.naive_bayes import GaussianNB\n",
    "from sklearn.neighbors import KNeighborsClassifier\n",
    "from sklearn.tree import DecisionTreeClassifier\n",
    "from sklearn import svm # for Support Vector Machine\n",
    "from sklearn import metrics # for the check the error and accuracy of the model\n",
    "\n",
    "from sklearn.model_selection import train_test_split, GridSearchCV, StratifiedKFold\n",
    "\n",
    "from sklearn.metrics import roc_curve, precision_recall_curve, auc, make_scorer, recall_score, accuracy_score,average_precision_score, precision_score, confusion_matrix, classification_report"
   ]
  },
  {
   "cell_type": "code",
   "execution_count": 3,
   "metadata": {},
   "outputs": [],
   "source": [
    "# Imported Libraries\n",
    "\n",
    "import numpy as np # linear algebra\n",
    "import pandas as pd # data processing, CSV file I/O (e.g. pd.read_csv)\n",
    "import matplotlib.pyplot as plt  #\n",
    "import seaborn as sns  #\n",
    "from sklearn.manifold import TSNE\n",
    "from sklearn.decomposition import PCA, TruncatedSVD\n",
    "import matplotlib.patches as mpatches\n",
    "import time\n",
    "\n",
    "# Classifier Libraries\n",
    "from sklearn.linear_model import LogisticRegression\n",
    "from sklearn.svm import SVC\n",
    "from sklearn.neighbors import KNeighborsClassifier\n",
    "from sklearn.tree import DecisionTreeClassifier\n",
    "from sklearn.ensemble import RandomForestClassifier\n",
    "import collections\n",
    "\n",
    "\n",
    "# Other Libraries\n",
    "from sklearn.model_selection import train_test_split\n",
    "from sklearn.pipeline import make_pipeline\n",
    "from sklearn.metrics import precision_score, recall_score, f1_score, roc_auc_score, accuracy_score, classification_report\n",
    "from collections import Counter\n",
    "from sklearn.model_selection import KFold, StratifiedKFold\n",
    "import warnings\n",
    "warnings.filterwarnings(\"ignore\")"
   ]
  },
  {
   "cell_type": "markdown",
   "metadata": {},
   "source": [
    "### Dataset Inferences\n",
    "\n",
    "The data is presented with Time, Amount, Class and a series of columns with naming that ranges from V1 to V28\n",
    "\n",
    "Due to confidentiality issues, the actual names of V1-V28 is not provided by the source\n",
    "\n",
    "V1-V28 are principal components obtained via PCA\n",
    "\n",
    "This means V1 through V28 are important in determining whether a transaction is fraud or not and none of them can be neglected\n",
    "'Time' and 'Amount' columns are not transformed with PCA\n",
    "\n",
    "Feature 'Class' is the target column, have value 1 for a fraud transaction and 0 otherwise."
   ]
  },
  {
   "cell_type": "code",
   "execution_count": 4,
   "metadata": {},
   "outputs": [],
   "source": [
    "from sklearn.naive_bayes import GaussianNB\n",
    "from sklearn.neighbors import KNeighborsClassifier\n",
    "from sklearn.tree import DecisionTreeClassifier\n",
    "from sklearn.svm import SVC\n",
    "from sklearn.ensemble import RandomForestClassifier\n",
    "from sklearn.ensemble import AdaBoostClassifier"
   ]
  },
  {
   "cell_type": "code",
   "execution_count": 5,
   "metadata": {},
   "outputs": [],
   "source": [
    "from sklearn.preprocessing import MinMaxScaler\n",
    "from sklearn.model_selection import GridSearchCV\n",
    "from sklearn.model_selection import train_test_split\n",
    "from sklearn.model_selection import cross_val_score\n",
    "from sklearn.metrics import precision_score,confusion_matrix, recall_score, f1_score, roc_auc_score, accuracy_score, classification_report\n",
    "from sklearn.preprocessing import StandardScaler\n",
    "from sklearn.model_selection import KFold, cross_val_score\n",
    "\n",
    "from sklearn.model_selection import GridSearchCV\n",
    "from sklearn.neural_network import MLPClassifier\n",
    "from sklearn.preprocessing import MinMaxScaler"
   ]
  },
  {
   "cell_type": "code",
   "execution_count": 6,
   "metadata": {},
   "outputs": [],
   "source": [
    "import pandas as pd\n",
    "import numpy as np\n",
    "import seaborn as sns\n",
    "import matplotlib.pyplot as plt\n",
    "%matplotlib inline\n",
    "import warnings\n",
    "warnings.filterwarnings(\"ignore\")"
   ]
  },
  {
   "cell_type": "code",
   "execution_count": 7,
   "metadata": {},
   "outputs": [
    {
     "data": {
      "text/html": [
       "<div>\n",
       "<style scoped>\n",
       "    .dataframe tbody tr th:only-of-type {\n",
       "        vertical-align: middle;\n",
       "    }\n",
       "\n",
       "    .dataframe tbody tr th {\n",
       "        vertical-align: top;\n",
       "    }\n",
       "\n",
       "    .dataframe thead th {\n",
       "        text-align: right;\n",
       "    }\n",
       "</style>\n",
       "<table border=\"1\" class=\"dataframe\">\n",
       "  <thead>\n",
       "    <tr style=\"text-align: right;\">\n",
       "      <th></th>\n",
       "      <th>Time</th>\n",
       "      <th>V1</th>\n",
       "      <th>V2</th>\n",
       "      <th>V3</th>\n",
       "      <th>V4</th>\n",
       "      <th>V5</th>\n",
       "      <th>V6</th>\n",
       "      <th>V7</th>\n",
       "      <th>V8</th>\n",
       "      <th>V9</th>\n",
       "      <th>...</th>\n",
       "      <th>V21</th>\n",
       "      <th>V22</th>\n",
       "      <th>V23</th>\n",
       "      <th>V24</th>\n",
       "      <th>V25</th>\n",
       "      <th>V26</th>\n",
       "      <th>V27</th>\n",
       "      <th>V28</th>\n",
       "      <th>Amount</th>\n",
       "      <th>Class</th>\n",
       "    </tr>\n",
       "  </thead>\n",
       "  <tbody>\n",
       "    <tr>\n",
       "      <th>0</th>\n",
       "      <td>0.0</td>\n",
       "      <td>-1.359807</td>\n",
       "      <td>-0.072781</td>\n",
       "      <td>2.536347</td>\n",
       "      <td>1.378155</td>\n",
       "      <td>-0.338321</td>\n",
       "      <td>0.462388</td>\n",
       "      <td>0.239599</td>\n",
       "      <td>0.098698</td>\n",
       "      <td>0.363787</td>\n",
       "      <td>...</td>\n",
       "      <td>-0.018307</td>\n",
       "      <td>0.277838</td>\n",
       "      <td>-0.110474</td>\n",
       "      <td>0.066928</td>\n",
       "      <td>0.128539</td>\n",
       "      <td>-0.189115</td>\n",
       "      <td>0.133558</td>\n",
       "      <td>-0.021053</td>\n",
       "      <td>149.62</td>\n",
       "      <td>0</td>\n",
       "    </tr>\n",
       "    <tr>\n",
       "      <th>1</th>\n",
       "      <td>0.0</td>\n",
       "      <td>1.191857</td>\n",
       "      <td>0.266151</td>\n",
       "      <td>0.166480</td>\n",
       "      <td>0.448154</td>\n",
       "      <td>0.060018</td>\n",
       "      <td>-0.082361</td>\n",
       "      <td>-0.078803</td>\n",
       "      <td>0.085102</td>\n",
       "      <td>-0.255425</td>\n",
       "      <td>...</td>\n",
       "      <td>-0.225775</td>\n",
       "      <td>-0.638672</td>\n",
       "      <td>0.101288</td>\n",
       "      <td>-0.339846</td>\n",
       "      <td>0.167170</td>\n",
       "      <td>0.125895</td>\n",
       "      <td>-0.008983</td>\n",
       "      <td>0.014724</td>\n",
       "      <td>2.69</td>\n",
       "      <td>0</td>\n",
       "    </tr>\n",
       "    <tr>\n",
       "      <th>2</th>\n",
       "      <td>1.0</td>\n",
       "      <td>-1.358354</td>\n",
       "      <td>-1.340163</td>\n",
       "      <td>1.773209</td>\n",
       "      <td>0.379780</td>\n",
       "      <td>-0.503198</td>\n",
       "      <td>1.800499</td>\n",
       "      <td>0.791461</td>\n",
       "      <td>0.247676</td>\n",
       "      <td>-1.514654</td>\n",
       "      <td>...</td>\n",
       "      <td>0.247998</td>\n",
       "      <td>0.771679</td>\n",
       "      <td>0.909412</td>\n",
       "      <td>-0.689281</td>\n",
       "      <td>-0.327642</td>\n",
       "      <td>-0.139097</td>\n",
       "      <td>-0.055353</td>\n",
       "      <td>-0.059752</td>\n",
       "      <td>378.66</td>\n",
       "      <td>0</td>\n",
       "    </tr>\n",
       "  </tbody>\n",
       "</table>\n",
       "<p>3 rows × 31 columns</p>\n",
       "</div>"
      ],
      "text/plain": [
       "   Time        V1        V2        V3        V4        V5        V6        V7  \\\n",
       "0   0.0 -1.359807 -0.072781  2.536347  1.378155 -0.338321  0.462388  0.239599   \n",
       "1   0.0  1.191857  0.266151  0.166480  0.448154  0.060018 -0.082361 -0.078803   \n",
       "2   1.0 -1.358354 -1.340163  1.773209  0.379780 -0.503198  1.800499  0.791461   \n",
       "\n",
       "         V8        V9  ...       V21       V22       V23       V24       V25  \\\n",
       "0  0.098698  0.363787  ... -0.018307  0.277838 -0.110474  0.066928  0.128539   \n",
       "1  0.085102 -0.255425  ... -0.225775 -0.638672  0.101288 -0.339846  0.167170   \n",
       "2  0.247676 -1.514654  ...  0.247998  0.771679  0.909412 -0.689281 -0.327642   \n",
       "\n",
       "        V26       V27       V28  Amount  Class  \n",
       "0 -0.189115  0.133558 -0.021053  149.62      0  \n",
       "1  0.125895 -0.008983  0.014724    2.69      0  \n",
       "2 -0.139097 -0.055353 -0.059752  378.66      0  \n",
       "\n",
       "[3 rows x 31 columns]"
      ]
     },
     "execution_count": 7,
     "metadata": {},
     "output_type": "execute_result"
    }
   ],
   "source": [
    "dataset = pd.read_csv('creditcard.csv')\n",
    "dataset.head(3)"
   ]
  },
  {
   "cell_type": "code",
   "execution_count": 8,
   "metadata": {},
   "outputs": [
    {
     "name": "stdout",
     "output_type": "stream",
     "text": [
      "('This dataset contains ', 284807, 'rows')\n",
      "('This dataset contains ', 31, 'columns')\n"
     ]
    }
   ],
   "source": [
    "print('This dataset contains ',dataset.shape[0],'rows')\n",
    "print('This dataset contains ',dataset.shape[1],'columns')"
   ]
  },
  {
   "cell_type": "code",
   "execution_count": 8,
   "metadata": {},
   "outputs": [
    {
     "name": "stdout",
     "output_type": "stream",
     "text": [
      "('Total number of zeroes (non-fraud transactions) : ', 284315)\n",
      "('Total number of ones (fraud transactions) : ', 492)\n",
      "('Percentage of non-fraud transactions : ', 99)\n",
      "('Percentage of fraud transactions : ', 0)\n"
     ]
    }
   ],
   "source": [
    "print('Total number of zeroes (non-fraud transactions) : ', dataset['Class'].value_counts()[0])\n",
    "print('Total number of ones (fraud transactions) : ', dataset['Class'].value_counts()[1])\n",
    "print('Percentage of non-fraud transactions : ', 100*(dataset['Class'].value_counts()[0])/ len(dataset))\n",
    "print('Percentage of fraud transactions : ', 100*(dataset['Class'].value_counts()[1])/ len(dataset))"
   ]
  },
  {
   "cell_type": "code",
   "execution_count": null,
   "metadata": {},
   "outputs": [],
   "source": [
    " "
   ]
  },
  {
   "cell_type": "markdown",
   "metadata": {},
   "source": [
    "### Checking the Target Classes"
   ]
  },
  {
   "cell_type": "code",
   "execution_count": 9,
   "metadata": {},
   "outputs": [
    {
     "data": {
      "text/plain": [
       "Text(0,0.5,'Frequency')"
      ]
     },
     "execution_count": 9,
     "metadata": {},
     "output_type": "execute_result"
    },
    {
     "data": {
      "image/png": "[encoded data removed]",
      "text/plain": [
       "<Figure size 432x288 with 1 Axes>"
      ]
     },
     "metadata": {},
     "output_type": "display_data"
    }
   ],
   "source": [
    "count_classes = pd.value_counts(dataset['Class'], sort = True).sort_index()\n",
    "count_classes.plot(kind = 'bar')\n",
    "plt.title(\"Fraud class histogram\")\n",
    "plt.xlabel(\"Class\")\n",
    "plt.ylabel(\"Frequency\")"
   ]
  },
  {
   "cell_type": "code",
   "execution_count": 10,
   "metadata": {},
   "outputs": [
    {
     "data": {
      "image/png": "[encoded data removed]",
      "text/plain": [
       "<Figure size 1296x288 with 2 Axes>"
      ]
     },
     "metadata": {},
     "output_type": "display_data"
    }
   ],
   "source": [
    "fig, ax = plt.subplots(1, 2, figsize=(18,4))\n",
    "\n",
    "amount_val = dataset['Amount'].values\n",
    "time_val = dataset['Time'].values\n",
    "\n",
    "sns.distplot(amount_val, ax=ax[0], color='r')\n",
    "ax[0].set_title('Distribution of Transaction Amount', fontsize=14)\n",
    "ax[0].set_xlim([min(amount_val), max(amount_val)])\n",
    "\n",
    "sns.distplot(time_val, ax=ax[1], color='b')\n",
    "ax[1].set_title('Distribution of Transaction Time', fontsize=14)\n",
    "ax[1].set_xlim([min(time_val), max(time_val)])\n",
    "\n",
    "\n",
    "\n",
    "plt.show()"
   ]
  },
  {
   "cell_type": "code",
   "execution_count": 12,
   "metadata": {},
   "outputs": [
    {
     "data": {
      "text/plain": [
       "Text(0,0.5,'Frequency')"
      ]
     },
     "execution_count": 12,
     "metadata": {},
     "output_type": "execute_result"
    },
    {
     "data": {
      "image/png": "[encoded data removed]",
      "text/plain": [
       "<Figure size 432x288 with 1 Axes>"
      ]
     },
     "metadata": {},
     "output_type": "display_data"
    }
   ],
   "source": [
    "sns.countplot('Class', data=dataset, palette=None)\n",
    "plt.title(\"Target Column frequency distribution\")\n",
    "plt.xlabel(\"Class\")\n",
    "plt.ylabel(\"Frequency\")"
   ]
  },
  {
   "cell_type": "markdown",
   "metadata": {},
   "source": [
    "#### Class column inference\n",
    "\n",
    "The target column is heavily imbalanced\n",
    "\n",
    "Percentage of fraud transactions over total transactions is just 0.17%\n",
    "\n",
    "Building a model with this target column will definitely lead to overfitting issue\n",
    "\n",
    "Accuracy of such a model(irrespective of algorithm) will be > 99%\n",
    "\n",
    "Feature Engineering requirements\n",
    "\n",
    "'Class' column is heavily biased. So,it is not advised to proceed without doing something for the bias\n",
    "\n",
    "'Time' and 'Amount' columns are not transformed. So, it is required to transform them to match with the other values(V1 - V28)"
   ]
  },
  {
   "cell_type": "markdown",
   "metadata": {},
   "source": [
    "### Plot Time vs Amount to identify if there is any relationship between transaction amount over time"
   ]
  },
  {
   "cell_type": "code",
   "execution_count": 13,
   "metadata": {},
   "outputs": [
    {
     "data": {
      "text/plain": [
       "Text(0,0.5,'Amount')"
      ]
     },
     "execution_count": 13,
     "metadata": {},
     "output_type": "execute_result"
    },
    {
     "data": {
      "image/png": "[encoded data removed]",
      "text/plain": [
       "<Figure size 432x288 with 1 Axes>"
      ]
     },
     "metadata": {},
     "output_type": "display_data"
    }
   ],
   "source": [
    "dataset.plot(x='Time', y='Amount', style='-')\n",
    "plt.title(\"Transaction Amount vs Time\")\n",
    "plt.xlabel(\"Time\")\n",
    "plt.ylabel(\"Amount\")"
   ]
  },
  {
   "cell_type": "markdown",
   "metadata": {},
   "source": [
    "The above graph clearly illustrates there is absolutely no relationship between transaction amount over time\n",
    "\n",
    "This means the transaction time column can be eliminated from the original data frame before further analysis"
   ]
  },
  {
   "cell_type": "markdown",
   "metadata": {},
   "source": [
    "### Deleting 'Time' column from original dataframe"
   ]
  },
  {
   "cell_type": "code",
   "execution_count": 16,
   "metadata": {},
   "outputs": [],
   "source": [
    "dataset = dataset.drop(['Time'],axis=1)"
   ]
  },
  {
   "cell_type": "markdown",
   "metadata": {},
   "source": [
    "#### Scale the 'Amount' column before further analysis, name it as a new column and drop the 'Amount' column"
   ]
  },
  {
   "cell_type": "code",
   "execution_count": 14,
   "metadata": {},
   "outputs": [
    {
     "data": {
      "text/html": [
       "<div>\n",
       "<style scoped>\n",
       "    .dataframe tbody tr th:only-of-type {\n",
       "        vertical-align: middle;\n",
       "    }\n",
       "\n",
       "    .dataframe tbody tr th {\n",
       "        vertical-align: top;\n",
       "    }\n",
       "\n",
       "    .dataframe thead th {\n",
       "        text-align: right;\n",
       "    }\n",
       "</style>\n",
       "<table border=\"1\" class=\"dataframe\">\n",
       "  <thead>\n",
       "    <tr style=\"text-align: right;\">\n",
       "      <th></th>\n",
       "      <th>Time</th>\n",
       "      <th>V1</th>\n",
       "      <th>V2</th>\n",
       "      <th>V3</th>\n",
       "      <th>V4</th>\n",
       "      <th>V5</th>\n",
       "      <th>V6</th>\n",
       "      <th>V7</th>\n",
       "      <th>V8</th>\n",
       "      <th>V9</th>\n",
       "      <th>...</th>\n",
       "      <th>V21</th>\n",
       "      <th>V22</th>\n",
       "      <th>V23</th>\n",
       "      <th>V24</th>\n",
       "      <th>V25</th>\n",
       "      <th>V26</th>\n",
       "      <th>V27</th>\n",
       "      <th>V28</th>\n",
       "      <th>Class</th>\n",
       "      <th>Normalized_Amount</th>\n",
       "    </tr>\n",
       "  </thead>\n",
       "  <tbody>\n",
       "    <tr>\n",
       "      <th>0</th>\n",
       "      <td>0.0</td>\n",
       "      <td>-1.359807</td>\n",
       "      <td>-0.072781</td>\n",
       "      <td>2.536347</td>\n",
       "      <td>1.378155</td>\n",
       "      <td>-0.338321</td>\n",
       "      <td>0.462388</td>\n",
       "      <td>0.239599</td>\n",
       "      <td>0.098698</td>\n",
       "      <td>0.363787</td>\n",
       "      <td>...</td>\n",
       "      <td>-0.018307</td>\n",
       "      <td>0.277838</td>\n",
       "      <td>-0.110474</td>\n",
       "      <td>0.066928</td>\n",
       "      <td>0.128539</td>\n",
       "      <td>-0.189115</td>\n",
       "      <td>0.133558</td>\n",
       "      <td>-0.021053</td>\n",
       "      <td>0</td>\n",
       "      <td>0.244964</td>\n",
       "    </tr>\n",
       "    <tr>\n",
       "      <th>1</th>\n",
       "      <td>0.0</td>\n",
       "      <td>1.191857</td>\n",
       "      <td>0.266151</td>\n",
       "      <td>0.166480</td>\n",
       "      <td>0.448154</td>\n",
       "      <td>0.060018</td>\n",
       "      <td>-0.082361</td>\n",
       "      <td>-0.078803</td>\n",
       "      <td>0.085102</td>\n",
       "      <td>-0.255425</td>\n",
       "      <td>...</td>\n",
       "      <td>-0.225775</td>\n",
       "      <td>-0.638672</td>\n",
       "      <td>0.101288</td>\n",
       "      <td>-0.339846</td>\n",
       "      <td>0.167170</td>\n",
       "      <td>0.125895</td>\n",
       "      <td>-0.008983</td>\n",
       "      <td>0.014724</td>\n",
       "      <td>0</td>\n",
       "      <td>-0.342475</td>\n",
       "    </tr>\n",
       "    <tr>\n",
       "      <th>2</th>\n",
       "      <td>1.0</td>\n",
       "      <td>-1.358354</td>\n",
       "      <td>-1.340163</td>\n",
       "      <td>1.773209</td>\n",
       "      <td>0.379780</td>\n",
       "      <td>-0.503198</td>\n",
       "      <td>1.800499</td>\n",
       "      <td>0.791461</td>\n",
       "      <td>0.247676</td>\n",
       "      <td>-1.514654</td>\n",
       "      <td>...</td>\n",
       "      <td>0.247998</td>\n",
       "      <td>0.771679</td>\n",
       "      <td>0.909412</td>\n",
       "      <td>-0.689281</td>\n",
       "      <td>-0.327642</td>\n",
       "      <td>-0.139097</td>\n",
       "      <td>-0.055353</td>\n",
       "      <td>-0.059752</td>\n",
       "      <td>0</td>\n",
       "      <td>1.160686</td>\n",
       "    </tr>\n",
       "    <tr>\n",
       "      <th>3</th>\n",
       "      <td>1.0</td>\n",
       "      <td>-0.966272</td>\n",
       "      <td>-0.185226</td>\n",
       "      <td>1.792993</td>\n",
       "      <td>-0.863291</td>\n",
       "      <td>-0.010309</td>\n",
       "      <td>1.247203</td>\n",
       "      <td>0.237609</td>\n",
       "      <td>0.377436</td>\n",
       "      <td>-1.387024</td>\n",
       "      <td>...</td>\n",
       "      <td>-0.108300</td>\n",
       "      <td>0.005274</td>\n",
       "      <td>-0.190321</td>\n",
       "      <td>-1.175575</td>\n",
       "      <td>0.647376</td>\n",
       "      <td>-0.221929</td>\n",
       "      <td>0.062723</td>\n",
       "      <td>0.061458</td>\n",
       "      <td>0</td>\n",
       "      <td>0.140534</td>\n",
       "    </tr>\n",
       "    <tr>\n",
       "      <th>4</th>\n",
       "      <td>2.0</td>\n",
       "      <td>-1.158233</td>\n",
       "      <td>0.877737</td>\n",
       "      <td>1.548718</td>\n",
       "      <td>0.403034</td>\n",
       "      <td>-0.407193</td>\n",
       "      <td>0.095921</td>\n",
       "      <td>0.592941</td>\n",
       "      <td>-0.270533</td>\n",
       "      <td>0.817739</td>\n",
       "      <td>...</td>\n",
       "      <td>-0.009431</td>\n",
       "      <td>0.798278</td>\n",
       "      <td>-0.137458</td>\n",
       "      <td>0.141267</td>\n",
       "      <td>-0.206010</td>\n",
       "      <td>0.502292</td>\n",
       "      <td>0.219422</td>\n",
       "      <td>0.215153</td>\n",
       "      <td>0</td>\n",
       "      <td>-0.073403</td>\n",
       "    </tr>\n",
       "  </tbody>\n",
       "</table>\n",
       "<p>5 rows × 31 columns</p>\n",
       "</div>"
      ],
      "text/plain": [
       "   Time        V1        V2        V3        V4        V5        V6        V7  \\\n",
       "0   0.0 -1.359807 -0.072781  2.536347  1.378155 -0.338321  0.462388  0.239599   \n",
       "1   0.0  1.191857  0.266151  0.166480  0.448154  0.060018 -0.082361 -0.078803   \n",
       "2   1.0 -1.358354 -1.340163  1.773209  0.379780 -0.503198  1.800499  0.791461   \n",
       "3   1.0 -0.966272 -0.185226  1.792993 -0.863291 -0.010309  1.247203  0.237609   \n",
       "4   2.0 -1.158233  0.877737  1.548718  0.403034 -0.407193  0.095921  0.592941   \n",
       "\n",
       "         V8        V9  ...       V21       V22       V23       V24       V25  \\\n",
       "0  0.098698  0.363787  ... -0.018307  0.277838 -0.110474  0.066928  0.128539   \n",
       "1  0.085102 -0.255425  ... -0.225775 -0.638672  0.101288 -0.339846  0.167170   \n",
       "2  0.247676 -1.514654  ...  0.247998  0.771679  0.909412 -0.689281 -0.327642   \n",
       "3  0.377436 -1.387024  ... -0.108300  0.005274 -0.190321 -1.175575  0.647376   \n",
       "4 -0.270533  0.817739  ... -0.009431  0.798278 -0.137458  0.141267 -0.206010   \n",
       "\n",
       "        V26       V27       V28  Class  Normalized_Amount  \n",
       "0 -0.189115  0.133558 -0.021053      0           0.244964  \n",
       "1  0.125895 -0.008983  0.014724      0          -0.342475  \n",
       "2 -0.139097 -0.055353 -0.059752      0           1.160686  \n",
       "3 -0.221929  0.062723  0.061458      0           0.140534  \n",
       "4  0.502292  0.219422  0.215153      0          -0.073403  \n",
       "\n",
       "[5 rows x 31 columns]"
      ]
     },
     "execution_count": 14,
     "metadata": {},
     "output_type": "execute_result"
    }
   ],
   "source": [
    "dataset['Normalized_Amount'] = StandardScaler().fit_transform(dataset['Amount'].values.reshape(-1, 1))\n",
    "dataset = dataset.drop(['Amount'],axis=1)\n",
    "dataset.head()"
   ]
  },
  {
   "cell_type": "markdown",
   "metadata": {},
   "source": [
    "### Change the index of Normalized_Amount and insert the same in the beginning to have a better look of data frame"
   ]
  },
  {
   "cell_type": "code",
   "execution_count": 12,
   "metadata": {},
   "outputs": [
    {
     "data": {
      "text/html": [
       "<div>\n",
       "<style scoped>\n",
       "    .dataframe tbody tr th:only-of-type {\n",
       "        vertical-align: middle;\n",
       "    }\n",
       "\n",
       "    .dataframe tbody tr th {\n",
       "        vertical-align: top;\n",
       "    }\n",
       "\n",
       "    .dataframe thead th {\n",
       "        text-align: right;\n",
       "    }\n",
       "</style>\n",
       "<table border=\"1\" class=\"dataframe\">\n",
       "  <thead>\n",
       "    <tr style=\"text-align: right;\">\n",
       "      <th></th>\n",
       "      <th>Normalized_Amount</th>\n",
       "      <th>V1</th>\n",
       "      <th>V2</th>\n",
       "      <th>V3</th>\n",
       "      <th>V4</th>\n",
       "      <th>V5</th>\n",
       "      <th>V6</th>\n",
       "      <th>V7</th>\n",
       "      <th>V8</th>\n",
       "      <th>V9</th>\n",
       "      <th>...</th>\n",
       "      <th>V20</th>\n",
       "      <th>V21</th>\n",
       "      <th>V22</th>\n",
       "      <th>V23</th>\n",
       "      <th>V24</th>\n",
       "      <th>V25</th>\n",
       "      <th>V26</th>\n",
       "      <th>V27</th>\n",
       "      <th>V28</th>\n",
       "      <th>Class</th>\n",
       "    </tr>\n",
       "  </thead>\n",
       "  <tbody>\n",
       "    <tr>\n",
       "      <th>0</th>\n",
       "      <td>0.244964</td>\n",
       "      <td>-1.359807</td>\n",
       "      <td>-0.072781</td>\n",
       "      <td>2.536347</td>\n",
       "      <td>1.378155</td>\n",
       "      <td>-0.338321</td>\n",
       "      <td>0.462388</td>\n",
       "      <td>0.239599</td>\n",
       "      <td>0.098698</td>\n",
       "      <td>0.363787</td>\n",
       "      <td>...</td>\n",
       "      <td>0.251412</td>\n",
       "      <td>-0.018307</td>\n",
       "      <td>0.277838</td>\n",
       "      <td>-0.110474</td>\n",
       "      <td>0.066928</td>\n",
       "      <td>0.128539</td>\n",
       "      <td>-0.189115</td>\n",
       "      <td>0.133558</td>\n",
       "      <td>-0.021053</td>\n",
       "      <td>0</td>\n",
       "    </tr>\n",
       "    <tr>\n",
       "      <th>1</th>\n",
       "      <td>-0.342475</td>\n",
       "      <td>1.191857</td>\n",
       "      <td>0.266151</td>\n",
       "      <td>0.166480</td>\n",
       "      <td>0.448154</td>\n",
       "      <td>0.060018</td>\n",
       "      <td>-0.082361</td>\n",
       "      <td>-0.078803</td>\n",
       "      <td>0.085102</td>\n",
       "      <td>-0.255425</td>\n",
       "      <td>...</td>\n",
       "      <td>-0.069083</td>\n",
       "      <td>-0.225775</td>\n",
       "      <td>-0.638672</td>\n",
       "      <td>0.101288</td>\n",
       "      <td>-0.339846</td>\n",
       "      <td>0.167170</td>\n",
       "      <td>0.125895</td>\n",
       "      <td>-0.008983</td>\n",
       "      <td>0.014724</td>\n",
       "      <td>0</td>\n",
       "    </tr>\n",
       "    <tr>\n",
       "      <th>2</th>\n",
       "      <td>1.160686</td>\n",
       "      <td>-1.358354</td>\n",
       "      <td>-1.340163</td>\n",
       "      <td>1.773209</td>\n",
       "      <td>0.379780</td>\n",
       "      <td>-0.503198</td>\n",
       "      <td>1.800499</td>\n",
       "      <td>0.791461</td>\n",
       "      <td>0.247676</td>\n",
       "      <td>-1.514654</td>\n",
       "      <td>...</td>\n",
       "      <td>0.524980</td>\n",
       "      <td>0.247998</td>\n",
       "      <td>0.771679</td>\n",
       "      <td>0.909412</td>\n",
       "      <td>-0.689281</td>\n",
       "      <td>-0.327642</td>\n",
       "      <td>-0.139097</td>\n",
       "      <td>-0.055353</td>\n",
       "      <td>-0.059752</td>\n",
       "      <td>0</td>\n",
       "    </tr>\n",
       "  </tbody>\n",
       "</table>\n",
       "<p>3 rows × 30 columns</p>\n",
       "</div>"
      ],
      "text/plain": [
       "   Normalized_Amount        V1        V2        V3        V4        V5  \\\n",
       "0           0.244964 -1.359807 -0.072781  2.536347  1.378155 -0.338321   \n",
       "1          -0.342475  1.191857  0.266151  0.166480  0.448154  0.060018   \n",
       "2           1.160686 -1.358354 -1.340163  1.773209  0.379780 -0.503198   \n",
       "\n",
       "         V6        V7        V8        V9  ...       V20       V21       V22  \\\n",
       "0  0.462388  0.239599  0.098698  0.363787  ...  0.251412 -0.018307  0.277838   \n",
       "1 -0.082361 -0.078803  0.085102 -0.255425  ... -0.069083 -0.225775 -0.638672   \n",
       "2  1.800499  0.791461  0.247676 -1.514654  ...  0.524980  0.247998  0.771679   \n",
       "\n",
       "        V23       V24       V25       V26       V27       V28  Class  \n",
       "0 -0.110474  0.066928  0.128539 -0.189115  0.133558 -0.021053      0  \n",
       "1  0.101288 -0.339846  0.167170  0.125895 -0.008983  0.014724      0  \n",
       "2  0.909412 -0.689281 -0.327642 -0.139097 -0.055353 -0.059752      0  \n",
       "\n",
       "[3 rows x 30 columns]"
      ]
     },
     "execution_count": 12,
     "metadata": {},
     "output_type": "execute_result"
    }
   ],
   "source": [
    "Normalized_Amount = dataset['Normalized_Amount']\n",
    "dataset=dataset.drop(['Normalized_Amount'],axis=1)\n",
    "dataset.insert(0, 'Normalized_Amount', Normalized_Amount)\n",
    "dataset.head(3)"
   ]
  },
  {
   "cell_type": "markdown",
   "metadata": {},
   "source": [
    "#### Checking for Missing Values in the dataset"
   ]
  },
  {
   "cell_type": "code",
   "execution_count": 15,
   "metadata": {},
   "outputs": [
    {
     "name": "stdout",
     "output_type": "stream",
     "text": [
      "There are no null values and dataframe is clear for further analysis\n"
     ]
    }
   ],
   "source": [
    "flag = dataset.isnull().sum().any()\n",
    "\n",
    "if (flag == True):\n",
    "    dataset.isnull().sum()\n",
    "    print(\"There are null values in the dataframe\")\n",
    "    \n",
    "else :\n",
    "    print(\"There are no null values and dataframe is clear for further analysis\")"
   ]
  },
  {
   "cell_type": "markdown",
   "metadata": {},
   "source": [
    "### Logistic Regression using Imbalanced data"
   ]
  },
  {
   "cell_type": "code",
   "execution_count": 18,
   "metadata": {},
   "outputs": [
    {
     "name": "stdout",
     "output_type": "stream",
     "text": [
      "Accuracy of Logistic regression classifier on imbalanced training set: 1.00\n",
      "Accuracy of Logistic regression classifier on imbalanced test set: 1.00\n"
     ]
    }
   ],
   "source": [
    "X = dataset.drop(['Class'], axis = 1) \n",
    "y = dataset['Class']\n",
    "\n",
    "X_train, X_test, y_train, y_test = train_test_split(X, y, random_state = 2)\n",
    "clf = LogisticRegression().fit(X_train, y_train)\n",
    "print('Accuracy of Logistic regression classifier on imbalanced training set: {:.2f}'.format(clf.score(X_train, y_train)))\n",
    "print('Accuracy of Logistic regression classifier on imbalanced test set: {:.2f}'.format(clf.score(X_test, y_test)))"
   ]
  },
  {
   "cell_type": "markdown",
   "metadata": {},
   "source": [
    "### Confusion Matrix with Imbalanced Data"
   ]
  },
  {
   "cell_type": "code",
   "execution_count": 19,
   "metadata": {},
   "outputs": [
    {
     "name": "stdout",
     "output_type": "stream",
     "text": [
      "('Logistic regression classifier (default settings)\\n', array([[71086,     9],\n",
      "       [   33,    74]]))\n"
     ]
    }
   ],
   "source": [
    "lr = LogisticRegression().fit(X_train, y_train)\n",
    "lr_predicted = lr.predict(X_test)\n",
    "confusion = confusion_matrix(y_test, lr_predicted)\n",
    "\n",
    "print('Logistic regression classifier (default settings)\\n', confusion)"
   ]
  },
  {
   "cell_type": "markdown",
   "metadata": {},
   "source": [
    "The FN and FP in Credit Card Fraud Detection\n",
    "\n",
    "False negatives (FN) in this case would be those transactions which are actually fraud transacations, but classified as non-fraud type.\n",
    "\n",
    "False positives (FP) in this case would be those transactions which are actually non-fraud type, but classified as fraud transactions.\n",
    "\n",
    "Considering the above two, the first case is very sensitive where it may classify a fraud transaction as a legally valid one\n",
    "\n",
    "This needs to be sorted out\n",
    "\n",
    "Revisiting Accuracy, Precision and Recall\n",
    "\n",
    "Accuracy = (TP+TN)/Total Transactions\n",
    "\n",
    "Precision = TP/(TP+FP)\n",
    "\n",
    "Recall = TP/(TP+FN)"
   ]
  },
  {
   "cell_type": "code",
   "execution_count": 20,
   "metadata": {},
   "outputs": [
    {
     "name": "stdout",
     "output_type": "stream",
     "text": [
      "Logistic Regression Evaluation Parameters with imbalanced data\n",
      "Accuracy: 1.00\n",
      "Precision: 0.89\n",
      "Recall: 0.69\n",
      "F1: 0.78\n"
     ]
    }
   ],
   "source": [
    "print(\"Logistic Regression Evaluation Parameters with imbalanced data\")\n",
    "print('Accuracy: {:.2f}'.format(accuracy_score(y_test, lr_predicted)))\n",
    "print('Precision: {:.2f}'.format(precision_score(y_test, lr_predicted)))\n",
    "print('Recall: {:.2f}'.format(recall_score(y_test, lr_predicted)))\n",
    "print('F1: {:.2f}'.format(f1_score(y_test, lr_predicted)))"
   ]
  },
  {
   "cell_type": "markdown",
   "metadata": {},
   "source": [
    "#### Precision-Recall Trade Off\n",
    "\n",
    "The False Negatives is a serious threat in this case as it could classify fraud transactions as non-fraud type\n",
    "\n",
    "From the equations in the above cell, it is pretty obvious that it is required to increase the Recall value. Means, a high recall accounts for minimal False Negatives\n",
    "\n",
    "This inturn means that the detection problem is a recall oriented problem\n",
    "\n",
    "The above value of Recall is much lower than Precision. It is required to find a mechanism to increase the value of Recall"
   ]
  },
  {
   "cell_type": "markdown",
   "metadata": {},
   "source": [
    "Let us now try two other algorithms also on this imbalanced data\n",
    "\n",
    "### Neural Net in imbalanced data"
   ]
  },
  {
   "cell_type": "code",
   "execution_count": 21,
   "metadata": {},
   "outputs": [
    {
     "name": "stdout",
     "output_type": "stream",
     "text": [
      "Accuracy of NN classifier on training set: 1.00\n",
      "Accuracy of NN classifier on test set: 1.00\n"
     ]
    }
   ],
   "source": [
    "scaler = MinMaxScaler()\n",
    "X_train, X_test, y_train, y_test = train_test_split(X, y, random_state = 0)\n",
    "X_train_scaled = scaler.fit_transform(X_train)\n",
    "X_test_scaled = scaler.transform(X_test)\n",
    "\n",
    "clf = MLPClassifier(hidden_layer_sizes = [100, 100], alpha = 5.0,\n",
    "                   random_state = 0, solver='lbfgs').fit(X_train_scaled, y_train)\n",
    "\n",
    "print('Accuracy of NN classifier on training set: {:.2f}'.format(clf.score(X_train_scaled, y_train)))\n",
    "print('Accuracy of NN classifier on test set: {:.2f}'.format(clf.score(X_test_scaled, y_test)))"
   ]
  },
  {
   "cell_type": "code",
   "execution_count": null,
   "metadata": {},
   "outputs": [],
   "source": []
  },
  {
   "cell_type": "markdown",
   "metadata": {},
   "source": [
    "### Naive Bayes in imbalanced data"
   ]
  },
  {
   "cell_type": "code",
   "execution_count": 23,
   "metadata": {},
   "outputs": [
    {
     "name": "stdout",
     "output_type": "stream",
     "text": [
      "Accuracy of GaussianNB classifier on training set: 0.98\n",
      "Accuracy of GaussianNB classifier on test set: 0.98\n"
     ]
    }
   ],
   "source": [
    "nbclf = GaussianNB().fit(X_train, y_train)\n",
    "print('Accuracy of GaussianNB classifier on training set: {:.2f}'.format(nbclf.score(X_train, y_train)))\n",
    "print('Accuracy of GaussianNB classifier on test set: {:.2f}'.format(nbclf.score(X_test, y_test)))"
   ]
  },
  {
   "cell_type": "markdown",
   "metadata": {},
   "source": [
    "#### Inferences obtained by dealing directly with imbalanced data\n",
    "\n",
    "No algorithm could perform better, as the accuracies are very high\n",
    "\n",
    "Clear case of overfitting due to imbalanced data\n",
    "\n",
    "Some sort of data manipulation is very much required"
   ]
  },
  {
   "cell_type": "markdown",
   "metadata": {},
   "source": [
    "### Dealing with class imbalance"
   ]
  },
  {
   "cell_type": "code",
   "execution_count": 24,
   "metadata": {},
   "outputs": [
    {
     "name": "stdout",
     "output_type": "stream",
     "text": [
      "('Total number of zeroes (non-fraud transactions) : ', 284315)\n",
      "('Total number of ones (fraud transactions) : ', 492)\n"
     ]
    }
   ],
   "source": [
    "# Recalling the amount of unique values in 'Class' column\n",
    "\n",
    "print('Total number of zeroes (non-fraud transactions) : ', dataset['Class'].value_counts()[0])\n",
    "print('Total number of ones (fraud transactions) : ', dataset['Class'].value_counts()[1])"
   ]
  },
  {
   "cell_type": "markdown",
   "metadata": {},
   "source": [
    "### For training and test data, two approaches are mentioned below\n",
    "\n",
    "#### Method 1\n",
    "\n",
    "Randomnly select equal number of non-fraud transactions from original data set\n",
    "\n",
    "So, in this case it is required to select 492 non-fraud transactions\n",
    "\n",
    "Create a new data frame with the new set of 492 non-fraud and 492 fraud transactions\n",
    "\n",
    "Build a model with the new data frame of 984 transactions (492 + 492)\n",
    "\n",
    "This method ensures a 50-50 split of both classes of targets (fraud & non-fraud)\n",
    "\n",
    "#### Method 2 - Random Over-Sampling\n",
    "\n",
    "Duplicate the 492 fraud transactions to make it equal to 284315 non-fraud transactions\n",
    "\n",
    "Create a new data frame with the new set of 284315 non-fraud and ~ 284315 fraud transactions\n",
    "\n",
    "Build a model with the new data frame of 568630 transactions (284315 + 284315)\n",
    "\n",
    "This method also ensures a 50-50 split of both classes of targets (fraud & non-fraud)\n",
    "\n",
    "Both methods have its own pros and cons\n",
    "\n",
    "Both method ensures there is a target label of 50-50 split, so that the class imbalance problem is avoided\n",
    "\n",
    "Model building will be fair as target label is equally split\n",
    "\n",
    "In Method 1, only 492 fair transactions out of total 284315 fair transactions is considered for model building. This amounts to only 0.17%. This doesnt guarantee an accurate model.\n",
    "\n",
    "In Method 2, all of the fair transactions are considered - and is a good thing. But the fraud transactions are duplicated 577 times (284315/492 = 577). Still I believe this is a fair approach."
   ]
  },
  {
   "cell_type": "code",
   "execution_count": null,
   "metadata": {},
   "outputs": [],
   "source": []
  },
  {
   "cell_type": "markdown",
   "metadata": {},
   "source": [
    "### Method 1 Analysis\n",
    "\n",
    "#### Initial step\n",
    "\n",
    "Randomnly select 492 non-fraud transactions\n",
    "\n",
    "Combine 492 non-fraud + 492 fraud to create a new dataframe\n",
    "\n",
    "Split fraud & non-fraud transactions as two seperate dataframes"
   ]
  },
  {
   "cell_type": "code",
   "execution_count": 25,
   "metadata": {},
   "outputs": [],
   "source": [
    "non_fraud_transactions_df = dataset[dataset['Class'] == 0]\n",
    "fraud_transactions_df = dataset[dataset['Class']==1]"
   ]
  },
  {
   "cell_type": "code",
   "execution_count": 26,
   "metadata": {},
   "outputs": [
    {
     "name": "stdout",
     "output_type": "stream",
     "text": [
      "('The dimension of fraud transactions dataframe is : ', (492, 30))\n",
      "('The dimension of non-fraud transactions dataframe is : ', (284315, 30))\n"
     ]
    }
   ],
   "source": [
    "print('The dimension of fraud transactions dataframe is : ', fraud_transactions_df.shape)\n",
    "print('The dimension of non-fraud transactions dataframe is : ', non_fraud_transactions_df.shape)"
   ]
  },
  {
   "cell_type": "markdown",
   "metadata": {},
   "source": [
    "### Get a randomn sample of 492 transactions from non fraud transactions dataframe"
   ]
  },
  {
   "cell_type": "code",
   "execution_count": 27,
   "metadata": {},
   "outputs": [
    {
     "name": "stdout",
     "output_type": "stream",
     "text": [
      "('The dimension of sample non-fraud transactions df is : ', (492, 30))\n"
     ]
    }
   ],
   "source": [
    "sample_492_non_fraud_transactions_df = non_fraud_transactions_df.sample(n=492)\n",
    "print('The dimension of sample non-fraud transactions df is : ', sample_492_non_fraud_transactions_df.shape)"
   ]
  },
  {
   "cell_type": "markdown",
   "metadata": {},
   "source": [
    "### Combine sample non-fraud transactions df with 492 fraud transactions df\n",
    "\n",
    "Also shuffle and reset the index"
   ]
  },
  {
   "cell_type": "code",
   "execution_count": 28,
   "metadata": {},
   "outputs": [
    {
     "data": {
      "text/html": [
       "<div>\n",
       "<style scoped>\n",
       "    .dataframe tbody tr th:only-of-type {\n",
       "        vertical-align: middle;\n",
       "    }\n",
       "\n",
       "    .dataframe tbody tr th {\n",
       "        vertical-align: top;\n",
       "    }\n",
       "\n",
       "    .dataframe thead th {\n",
       "        text-align: right;\n",
       "    }\n",
       "</style>\n",
       "<table border=\"1\" class=\"dataframe\">\n",
       "  <thead>\n",
       "    <tr style=\"text-align: right;\">\n",
       "      <th></th>\n",
       "      <th>V1</th>\n",
       "      <th>V2</th>\n",
       "      <th>V3</th>\n",
       "      <th>V4</th>\n",
       "      <th>V5</th>\n",
       "      <th>V6</th>\n",
       "      <th>V7</th>\n",
       "      <th>V8</th>\n",
       "      <th>V9</th>\n",
       "      <th>V10</th>\n",
       "      <th>...</th>\n",
       "      <th>V21</th>\n",
       "      <th>V22</th>\n",
       "      <th>V23</th>\n",
       "      <th>V24</th>\n",
       "      <th>V25</th>\n",
       "      <th>V26</th>\n",
       "      <th>V27</th>\n",
       "      <th>V28</th>\n",
       "      <th>Class</th>\n",
       "      <th>Normalized_Amount</th>\n",
       "    </tr>\n",
       "  </thead>\n",
       "  <tbody>\n",
       "    <tr>\n",
       "      <th>0</th>\n",
       "      <td>-3.127653</td>\n",
       "      <td>-2.601462</td>\n",
       "      <td>1.080470</td>\n",
       "      <td>0.261188</td>\n",
       "      <td>1.790920</td>\n",
       "      <td>-2.304317</td>\n",
       "      <td>-1.543045</td>\n",
       "      <td>0.649990</td>\n",
       "      <td>0.394781</td>\n",
       "      <td>-1.070962</td>\n",
       "      <td>...</td>\n",
       "      <td>0.609805</td>\n",
       "      <td>0.508017</td>\n",
       "      <td>-0.276610</td>\n",
       "      <td>0.074396</td>\n",
       "      <td>-0.042670</td>\n",
       "      <td>-0.276333</td>\n",
       "      <td>0.076475</td>\n",
       "      <td>-0.437139</td>\n",
       "      <td>0</td>\n",
       "      <td>-0.311170</td>\n",
       "    </tr>\n",
       "    <tr>\n",
       "      <th>1</th>\n",
       "      <td>2.120908</td>\n",
       "      <td>-0.779383</td>\n",
       "      <td>-1.114156</td>\n",
       "      <td>-0.536637</td>\n",
       "      <td>-0.975490</td>\n",
       "      <td>-1.031536</td>\n",
       "      <td>-0.976204</td>\n",
       "      <td>-0.072079</td>\n",
       "      <td>0.268723</td>\n",
       "      <td>0.111236</td>\n",
       "      <td>...</td>\n",
       "      <td>0.229129</td>\n",
       "      <td>0.685063</td>\n",
       "      <td>0.112636</td>\n",
       "      <td>-0.217971</td>\n",
       "      <td>-0.203188</td>\n",
       "      <td>-0.076661</td>\n",
       "      <td>0.022237</td>\n",
       "      <td>-0.014300</td>\n",
       "      <td>0</td>\n",
       "      <td>-0.253317</td>\n",
       "    </tr>\n",
       "    <tr>\n",
       "      <th>2</th>\n",
       "      <td>-15.020981</td>\n",
       "      <td>8.075240</td>\n",
       "      <td>-16.298091</td>\n",
       "      <td>5.664820</td>\n",
       "      <td>-11.918153</td>\n",
       "      <td>-4.246957</td>\n",
       "      <td>-14.716668</td>\n",
       "      <td>9.435084</td>\n",
       "      <td>-6.795398</td>\n",
       "      <td>-15.124163</td>\n",
       "      <td>...</td>\n",
       "      <td>2.525115</td>\n",
       "      <td>-0.832074</td>\n",
       "      <td>-0.186117</td>\n",
       "      <td>0.429781</td>\n",
       "      <td>0.697103</td>\n",
       "      <td>0.056031</td>\n",
       "      <td>-1.310888</td>\n",
       "      <td>-0.707403</td>\n",
       "      <td>1</td>\n",
       "      <td>-0.216815</td>\n",
       "    </tr>\n",
       "  </tbody>\n",
       "</table>\n",
       "<p>3 rows × 30 columns</p>\n",
       "</div>"
      ],
      "text/plain": [
       "          V1        V2         V3        V4         V5        V6         V7  \\\n",
       "0  -3.127653 -2.601462   1.080470  0.261188   1.790920 -2.304317  -1.543045   \n",
       "1   2.120908 -0.779383  -1.114156 -0.536637  -0.975490 -1.031536  -0.976204   \n",
       "2 -15.020981  8.075240 -16.298091  5.664820 -11.918153 -4.246957 -14.716668   \n",
       "\n",
       "         V8        V9        V10  ...       V21       V22       V23       V24  \\\n",
       "0  0.649990  0.394781  -1.070962  ...  0.609805  0.508017 -0.276610  0.074396   \n",
       "1 -0.072079  0.268723   0.111236  ...  0.229129  0.685063  0.112636 -0.217971   \n",
       "2  9.435084 -6.795398 -15.124163  ...  2.525115 -0.832074 -0.186117  0.429781   \n",
       "\n",
       "        V25       V26       V27       V28  Class  Normalized_Amount  \n",
       "0 -0.042670 -0.276333  0.076475 -0.437139      0          -0.311170  \n",
       "1 -0.203188 -0.076661  0.022237 -0.014300      0          -0.253317  \n",
       "2  0.697103  0.056031 -1.310888 -0.707403      1          -0.216815  \n",
       "\n",
       "[3 rows x 30 columns]"
      ]
     },
     "execution_count": 28,
     "metadata": {},
     "output_type": "execute_result"
    }
   ],
   "source": [
    "method_1_df = pd.concat([sample_492_non_fraud_transactions_df, fraud_transactions_df])\n",
    "method_1_df = method_1_df.sample(frac=1).reset_index(drop=True)\n",
    "method_1_df.head(3)"
   ]
  },
  {
   "cell_type": "code",
   "execution_count": 29,
   "metadata": {},
   "outputs": [
    {
     "name": "stdout",
     "output_type": "stream",
     "text": [
      "('The dimension of dataframe for Method 1 is : ', (984, 30))\n"
     ]
    }
   ],
   "source": [
    "print('The dimension of dataframe for Method 1 is : ',method_1_df.shape )"
   ]
  },
  {
   "cell_type": "markdown",
   "metadata": {},
   "source": [
    "### method_1_df is the data frame with equally distributed target column values for further analysis"
   ]
  },
  {
   "cell_type": "code",
   "execution_count": 30,
   "metadata": {},
   "outputs": [
    {
     "data": {
      "text/plain": [
       "Text(0,0.5,'Frequency')"
      ]
     },
     "execution_count": 30,
     "metadata": {},
     "output_type": "execute_result"
    },
    {
     "data": {
      "image/png": "[encoded data removed]",
      "text/plain": [
       "<Figure size 432x288 with 1 Axes>"
      ]
     },
     "metadata": {},
     "output_type": "display_data"
    }
   ],
   "source": [
    "# Let's now verify this with a frequency distribution plot of method_1_df\n",
    "\n",
    "sns.countplot('Class', data=method_1_df, palette=None)\n",
    "plt.title(\"Method 1 Frequency distribution plot\")\n",
    "plt.xlabel(\"Class\")\n",
    "plt.ylabel(\"Frequency\")"
   ]
  },
  {
   "cell_type": "code",
   "execution_count": 31,
   "metadata": {},
   "outputs": [
    {
     "name": "stdout",
     "output_type": "stream",
     "text": [
      "('Percentage of non-fraud transactions in method_1_df : ', 50)\n",
      "('Percentage of fraud transactions in method_1_df : ', 50)\n"
     ]
    }
   ],
   "source": [
    "print('Percentage of non-fraud transactions in method_1_df : ',  100*(method_1_df['Class'].value_counts()[0])/ len(method_1_df))\n",
    "print('Percentage of fraud transactions in method_1_df : ',  100*(method_1_df['Class'].value_counts()[1])/ len(method_1_df))"
   ]
  },
  {
   "cell_type": "markdown",
   "metadata": {},
   "source": [
    "### Split the method_1_df into inputs and target labels for further analysis (X & y split)"
   ]
  },
  {
   "cell_type": "code",
   "execution_count": 32,
   "metadata": {},
   "outputs": [],
   "source": [
    "X = method_1_df.drop(['Class'], axis = 1) \n",
    "y = method_1_df['Class']\n",
    "X_train, X_test, y_train, y_test = train_test_split(X, y, test_size=0.25, random_state=27)"
   ]
  },
  {
   "cell_type": "code",
   "execution_count": 33,
   "metadata": {},
   "outputs": [
    {
     "name": "stdout",
     "output_type": "stream",
     "text": [
      "('Number transactions in training dataset for Method 1: ', 738)\n",
      "('Number transactions in testing dataset  for Method 1: ', 246)\n",
      "('Total number of transactions  for Method 1 : ', 984)\n"
     ]
    }
   ],
   "source": [
    "print(\"Number transactions in training dataset for Method 1: \", len(X_train))\n",
    "print(\"Number transactions in testing dataset  for Method 1: \", len(X_test))\n",
    "print(\"Total number of transactions  for Method 1 : \", len(X_train)+len(X_test))"
   ]
  },
  {
   "cell_type": "code",
   "execution_count": null,
   "metadata": {},
   "outputs": [],
   "source": []
  },
  {
   "cell_type": "markdown",
   "metadata": {},
   "source": [
    "#### Applying Logistic Regression in Method 1 - (492 + 492)"
   ]
  },
  {
   "cell_type": "code",
   "execution_count": 34,
   "metadata": {},
   "outputs": [
    {
     "name": "stdout",
     "output_type": "stream",
     "text": [
      "Accuracy of Logistic regression classifier on training set: 0.95\n",
      "Accuracy of Logistic regression classifier on test set: 0.94\n"
     ]
    }
   ],
   "source": [
    "clf = LogisticRegression().fit(X_train, y_train)\n",
    "print('Accuracy of Logistic regression classifier on training set: {:.2f}'.format(clf.score(X_train, y_train)))\n",
    "print('Accuracy of Logistic regression classifier on test set: {:.2f}'.format(clf.score(X_test, y_test)))"
   ]
  },
  {
   "cell_type": "markdown",
   "metadata": {},
   "source": [
    "## Confusion Matrix"
   ]
  },
  {
   "cell_type": "code",
   "execution_count": null,
   "metadata": {},
   "outputs": [],
   "source": []
  },
  {
   "cell_type": "code",
   "execution_count": 35,
   "metadata": {},
   "outputs": [
    {
     "name": "stdout",
     "output_type": "stream",
     "text": [
      "('Logistic regression classifier (default settings)\\n', array([[121,   5],\n",
      "       [  9, 111]]))\n"
     ]
    }
   ],
   "source": [
    "lr_predicted = clf.predict(X_test)\n",
    "confusion = confusion_matrix(y_test, lr_predicted)\n",
    "print('Logistic regression classifier (default settings)\\n', confusion)"
   ]
  },
  {
   "cell_type": "markdown",
   "metadata": {},
   "source": [
    "## Precision & Recall Scores"
   ]
  },
  {
   "cell_type": "code",
   "execution_count": 36,
   "metadata": {},
   "outputs": [
    {
     "name": "stdout",
     "output_type": "stream",
     "text": [
      "Accuracy: 0.94\n",
      "Precision: 0.96\n",
      "Recall: 0.93\n",
      "F1: 0.94\n"
     ]
    }
   ],
   "source": [
    "print('Accuracy: {:.2f}'.format(accuracy_score(y_test, lr_predicted)))\n",
    "print('Precision: {:.2f}'.format(precision_score(y_test, lr_predicted)))\n",
    "print('Recall: {:.2f}'.format(recall_score(y_test, lr_predicted)))\n",
    "print('F1: {:.2f}'.format(f1_score(y_test, lr_predicted)))"
   ]
  },
  {
   "cell_type": "markdown",
   "metadata": {},
   "source": [
    "## Precision-Recall Tradeoff in under-sampled data\n",
    "\n",
    "Clearly the Recall value have increased way better than that of unbalanced data"
   ]
  },
  {
   "cell_type": "markdown",
   "metadata": {},
   "source": [
    "#### Using GridSearch to find best parameters for Logistic Regression"
   ]
  },
  {
   "cell_type": "code",
   "execution_count": 37,
   "metadata": {},
   "outputs": [],
   "source": [
    "logistic_parameters = {\"penalty\": ['l1', 'l2'], 'C': [0.001, 0.01, 0.1, 1, 10, 100, 1000]}\n",
    "grid = GridSearchCV(LogisticRegression(), logistic_parameters)\n",
    "grid.fit(X_train, y_train)\n",
    "best_log_reg = grid.best_estimator_"
   ]
  },
  {
   "cell_type": "code",
   "execution_count": 38,
   "metadata": {},
   "outputs": [
    {
     "name": "stdout",
     "output_type": "stream",
     "text": [
      "('Logistic Regression Cross Validation Score: ', 0.9376529933576914)\n"
     ]
    }
   ],
   "source": [
    "logistic_score = cross_val_score(best_log_reg, X_train, y_train, cv=5)\n",
    "print('Logistic Regression Cross Validation Score: ', logistic_score.mean())"
   ]
  },
  {
   "cell_type": "markdown",
   "metadata": {},
   "source": [
    "### Confusion Matrix after tuning in with best parameters"
   ]
  },
  {
   "cell_type": "code",
   "execution_count": 39,
   "metadata": {},
   "outputs": [
    {
     "name": "stdout",
     "output_type": "stream",
     "text": [
      "('Logistic regression classifier with Cross-validation (default settings)\\n', array([[122,   4],\n",
      "       [ 11, 109]]))\n"
     ]
    }
   ],
   "source": [
    "lr_predicted = grid.predict(X_test)\n",
    "confusion = confusion_matrix(y_test, lr_predicted)\n",
    "print('Logistic regression classifier with Cross-validation (default settings)\\n', confusion)"
   ]
  },
  {
   "cell_type": "code",
   "execution_count": 40,
   "metadata": {},
   "outputs": [
    {
     "name": "stdout",
     "output_type": "stream",
     "text": [
      "Accuracy: 0.94\n",
      "Precision: 0.96\n",
      "Recall: 0.91\n",
      "F1: 0.94\n"
     ]
    }
   ],
   "source": [
    "print('Accuracy: {:.2f}'.format(accuracy_score(y_test, lr_predicted)))\n",
    "print('Precision: {:.2f}'.format(precision_score(y_test, lr_predicted)))\n",
    "print('Recall: {:.2f}'.format(recall_score(y_test, lr_predicted)))\n",
    "print('F1: {:.2f}'.format(f1_score(y_test, lr_predicted)))"
   ]
  },
  {
   "cell_type": "markdown",
   "metadata": {},
   "source": [
    "### Naive Bayes in Method 1"
   ]
  },
  {
   "cell_type": "code",
   "execution_count": 41,
   "metadata": {},
   "outputs": [
    {
     "name": "stdout",
     "output_type": "stream",
     "text": [
      "Accuracy of GaussianNB classifier on training set: 0.92\n",
      "Accuracy of GaussianNB classifier on test set: 0.93\n"
     ]
    }
   ],
   "source": [
    "nbclf = GaussianNB().fit(X_train, y_train)\n",
    "print('Accuracy of GaussianNB classifier on training set: {:.2f}'.format(nbclf.score(X_train, y_train)))\n",
    "print('Accuracy of GaussianNB classifier on test set: {:.2f}'.format(nbclf.score(X_test, y_test)))"
   ]
  },
  {
   "cell_type": "markdown",
   "metadata": {},
   "source": [
    "#### Neural Net in Method 1"
   ]
  },
  {
   "cell_type": "code",
   "execution_count": 42,
   "metadata": {},
   "outputs": [
    {
     "name": "stdout",
     "output_type": "stream",
     "text": [
      "Accuracy of NN classifier on training set: 0.94\n",
      "Accuracy of NN classifier on test set: 0.93\n"
     ]
    }
   ],
   "source": [
    "X_train_scaled = scaler.fit_transform(X_train)\n",
    "X_test_scaled = scaler.transform(X_test)\n",
    "clf = MLPClassifier(hidden_layer_sizes = [100, 100], alpha = 5.0,\n",
    "                   random_state = 0, solver='lbfgs').fit(X_train_scaled, y_train)\n",
    "\n",
    "print('Accuracy of NN classifier on training set: {:.2f}'.format(clf.score(X_train_scaled, y_train)))\n",
    "print('Accuracy of NN classifier on test set: {:.2f}'.format(clf.score(X_test_scaled, y_test)))"
   ]
  },
  {
   "cell_type": "markdown",
   "metadata": {},
   "source": [
    "## Method 2 Analysis\n",
    "\n",
    "Here the 492 fraud transactions will be duplicated to reach and become equal to 284315 non-fraud transactions\n",
    "\n",
    "The analysis done in Method 1 will be repeated for this set of data\n",
    "\n",
    "Revisiting some codes"
   ]
  },
  {
   "cell_type": "code",
   "execution_count": 43,
   "metadata": {},
   "outputs": [
    {
     "name": "stdout",
     "output_type": "stream",
     "text": [
      "('The dimension of fraud transactions dataframe is : ', (492, 30))\n",
      "('The dimension of non-fraud transactions dataframe is : ', (284315, 30))\n"
     ]
    }
   ],
   "source": [
    "print('The dimension of fraud transactions dataframe is : ', fraud_transactions_df.shape)\n",
    "print('The dimension of non-fraud transactions dataframe is : ', non_fraud_transactions_df.shape)"
   ]
  },
  {
   "cell_type": "markdown",
   "metadata": {},
   "source": [
    "non_fraud_transactions_df can be kept intact as no change is required in Method 2 as well\n",
    "\n",
    "492 entries in fraud_transactions_df will be replicated to reach 284315\n",
    "\n",
    "First step is to understand how many times bigger is non_fraud_transactions_df compared to fraud_transactions_df. This can be obtained by simply dividing total number of rows of non fraud transactions with that of fraud transactions."
   ]
  },
  {
   "cell_type": "code",
   "execution_count": 44,
   "metadata": {},
   "outputs": [
    {
     "data": {
      "text/plain": [
       "577"
      ]
     },
     "execution_count": 44,
     "metadata": {},
     "output_type": "execute_result"
    }
   ],
   "source": [
    "len(non_fraud_transactions_df) / len(fraud_transactions_df)"
   ]
  },
  {
   "cell_type": "markdown",
   "metadata": {},
   "source": [
    "This means, the 492 transactions of fraud_transactions_df needs to be duplicated 577 times to make the number of rows equal to that of non_fraud_transactions_df"
   ]
  },
  {
   "cell_type": "code",
   "execution_count": 45,
   "metadata": {},
   "outputs": [],
   "source": [
    "upsampled_df = pd.concat([fraud_transactions_df] * 577, ignore_index=True)"
   ]
  },
  {
   "cell_type": "code",
   "execution_count": 46,
   "metadata": {},
   "outputs": [
    {
     "name": "stdout",
     "output_type": "stream",
     "text": [
      "('The dimension of upsampled fraud transactions dataframe is : ', (283884, 30))\n",
      "('The dimension of non-fraud transactions dataframe is : ', (284315, 30))\n"
     ]
    }
   ],
   "source": [
    "print('The dimension of upsampled fraud transactions dataframe is : ', upsampled_df.shape)\n",
    "print('The dimension of non-fraud transactions dataframe is : ', non_fraud_transactions_df.shape)"
   ]
  },
  {
   "cell_type": "code",
   "execution_count": 47,
   "metadata": {},
   "outputs": [
    {
     "name": "stdout",
     "output_type": "stream",
     "text": [
      "('Difference in number of rows between two dataframes after upsampling is : ', 431)\n"
     ]
    }
   ],
   "source": [
    "print('Difference in number of rows between two dataframes after upsampling is : ', len(non_fraud_transactions_df) - len(upsampled_df))"
   ]
  },
  {
   "cell_type": "markdown",
   "metadata": {},
   "source": [
    "The difference is quite negligible compared to total number of transacctions and so the new data frame can be used for analysis"
   ]
  },
  {
   "cell_type": "code",
   "execution_count": 48,
   "metadata": {},
   "outputs": [
    {
     "data": {
      "text/html": [
       "<div>\n",
       "<style scoped>\n",
       "    .dataframe tbody tr th:only-of-type {\n",
       "        vertical-align: middle;\n",
       "    }\n",
       "\n",
       "    .dataframe tbody tr th {\n",
       "        vertical-align: top;\n",
       "    }\n",
       "\n",
       "    .dataframe thead th {\n",
       "        text-align: right;\n",
       "    }\n",
       "</style>\n",
       "<table border=\"1\" class=\"dataframe\">\n",
       "  <thead>\n",
       "    <tr style=\"text-align: right;\">\n",
       "      <th></th>\n",
       "      <th>V1</th>\n",
       "      <th>V2</th>\n",
       "      <th>V3</th>\n",
       "      <th>V4</th>\n",
       "      <th>V5</th>\n",
       "      <th>V6</th>\n",
       "      <th>V7</th>\n",
       "      <th>V8</th>\n",
       "      <th>V9</th>\n",
       "      <th>V10</th>\n",
       "      <th>...</th>\n",
       "      <th>V21</th>\n",
       "      <th>V22</th>\n",
       "      <th>V23</th>\n",
       "      <th>V24</th>\n",
       "      <th>V25</th>\n",
       "      <th>V26</th>\n",
       "      <th>V27</th>\n",
       "      <th>V28</th>\n",
       "      <th>Class</th>\n",
       "      <th>Normalized_Amount</th>\n",
       "    </tr>\n",
       "  </thead>\n",
       "  <tbody>\n",
       "    <tr>\n",
       "      <th>count</th>\n",
       "      <td>283884.000000</td>\n",
       "      <td>283884.000000</td>\n",
       "      <td>283884.000000</td>\n",
       "      <td>283884.000000</td>\n",
       "      <td>283884.000000</td>\n",
       "      <td>283884.000000</td>\n",
       "      <td>283884.000000</td>\n",
       "      <td>283884.000000</td>\n",
       "      <td>283884.000000</td>\n",
       "      <td>283884.000000</td>\n",
       "      <td>...</td>\n",
       "      <td>283884.000000</td>\n",
       "      <td>283884.000000</td>\n",
       "      <td>283884.000000</td>\n",
       "      <td>283884.000000</td>\n",
       "      <td>283884.000000</td>\n",
       "      <td>283884.000000</td>\n",
       "      <td>283884.000000</td>\n",
       "      <td>283884.000000</td>\n",
       "      <td>283884.0</td>\n",
       "      <td>283884.000000</td>\n",
       "    </tr>\n",
       "    <tr>\n",
       "      <th>mean</th>\n",
       "      <td>-4.771948</td>\n",
       "      <td>3.623778</td>\n",
       "      <td>-7.033281</td>\n",
       "      <td>4.542029</td>\n",
       "      <td>-3.151225</td>\n",
       "      <td>-1.397737</td>\n",
       "      <td>-5.568731</td>\n",
       "      <td>0.570636</td>\n",
       "      <td>-2.581123</td>\n",
       "      <td>-5.676883</td>\n",
       "      <td>...</td>\n",
       "      <td>0.713588</td>\n",
       "      <td>0.014049</td>\n",
       "      <td>-0.040308</td>\n",
       "      <td>-0.105130</td>\n",
       "      <td>0.041449</td>\n",
       "      <td>0.051648</td>\n",
       "      <td>0.170575</td>\n",
       "      <td>0.075667</td>\n",
       "      <td>1.0</td>\n",
       "      <td>0.135382</td>\n",
       "    </tr>\n",
       "    <tr>\n",
       "      <th>std</th>\n",
       "      <td>6.776801</td>\n",
       "      <td>4.286860</td>\n",
       "      <td>7.103720</td>\n",
       "      <td>2.870401</td>\n",
       "      <td>5.367015</td>\n",
       "      <td>1.856238</td>\n",
       "      <td>7.199458</td>\n",
       "      <td>6.790931</td>\n",
       "      <td>2.498357</td>\n",
       "      <td>4.892370</td>\n",
       "      <td>...</td>\n",
       "      <td>3.865377</td>\n",
       "      <td>1.493085</td>\n",
       "      <td>1.578039</td>\n",
       "      <td>0.515053</td>\n",
       "      <td>0.796396</td>\n",
       "      <td>0.471200</td>\n",
       "      <td>1.375368</td>\n",
       "      <td>0.546736</td>\n",
       "      <td>0.0</td>\n",
       "      <td>1.025200</td>\n",
       "    </tr>\n",
       "    <tr>\n",
       "      <th>min</th>\n",
       "      <td>-30.552380</td>\n",
       "      <td>-8.402154</td>\n",
       "      <td>-31.103685</td>\n",
       "      <td>-1.313275</td>\n",
       "      <td>-22.105532</td>\n",
       "      <td>-6.406267</td>\n",
       "      <td>-43.557242</td>\n",
       "      <td>-41.044261</td>\n",
       "      <td>-13.434066</td>\n",
       "      <td>-24.588262</td>\n",
       "      <td>...</td>\n",
       "      <td>-22.797604</td>\n",
       "      <td>-8.887017</td>\n",
       "      <td>-19.254328</td>\n",
       "      <td>-2.028024</td>\n",
       "      <td>-4.781606</td>\n",
       "      <td>-1.152671</td>\n",
       "      <td>-7.263482</td>\n",
       "      <td>-1.869290</td>\n",
       "      <td>1.0</td>\n",
       "      <td>-0.353229</td>\n",
       "    </tr>\n",
       "    <tr>\n",
       "      <th>25%</th>\n",
       "      <td>-6.036063</td>\n",
       "      <td>1.188226</td>\n",
       "      <td>-8.643489</td>\n",
       "      <td>2.373050</td>\n",
       "      <td>-4.792835</td>\n",
       "      <td>-2.501511</td>\n",
       "      <td>-7.965295</td>\n",
       "      <td>-0.195336</td>\n",
       "      <td>-3.872383</td>\n",
       "      <td>-7.756698</td>\n",
       "      <td>...</td>\n",
       "      <td>0.041787</td>\n",
       "      <td>-0.533764</td>\n",
       "      <td>-0.342175</td>\n",
       "      <td>-0.436809</td>\n",
       "      <td>-0.314348</td>\n",
       "      <td>-0.259416</td>\n",
       "      <td>-0.020025</td>\n",
       "      <td>-0.108868</td>\n",
       "      <td>1.0</td>\n",
       "      <td>-0.349231</td>\n",
       "    </tr>\n",
       "    <tr>\n",
       "      <th>50%</th>\n",
       "      <td>-2.342497</td>\n",
       "      <td>2.717869</td>\n",
       "      <td>-5.075257</td>\n",
       "      <td>4.177147</td>\n",
       "      <td>-1.522962</td>\n",
       "      <td>-1.424616</td>\n",
       "      <td>-3.034402</td>\n",
       "      <td>0.621508</td>\n",
       "      <td>-2.208768</td>\n",
       "      <td>-4.578825</td>\n",
       "      <td>...</td>\n",
       "      <td>0.592146</td>\n",
       "      <td>0.048434</td>\n",
       "      <td>-0.073135</td>\n",
       "      <td>-0.060795</td>\n",
       "      <td>0.088371</td>\n",
       "      <td>0.004321</td>\n",
       "      <td>0.394926</td>\n",
       "      <td>0.146344</td>\n",
       "      <td>1.0</td>\n",
       "      <td>-0.316247</td>\n",
       "    </tr>\n",
       "    <tr>\n",
       "      <th>75%</th>\n",
       "      <td>-0.419200</td>\n",
       "      <td>4.971257</td>\n",
       "      <td>-2.276185</td>\n",
       "      <td>6.348729</td>\n",
       "      <td>0.214562</td>\n",
       "      <td>-0.413216</td>\n",
       "      <td>-0.945954</td>\n",
       "      <td>1.764879</td>\n",
       "      <td>-0.787850</td>\n",
       "      <td>-2.614184</td>\n",
       "      <td>...</td>\n",
       "      <td>1.244611</td>\n",
       "      <td>0.617474</td>\n",
       "      <td>0.308378</td>\n",
       "      <td>0.285328</td>\n",
       "      <td>0.456515</td>\n",
       "      <td>0.396733</td>\n",
       "      <td>0.826029</td>\n",
       "      <td>0.381152</td>\n",
       "      <td>1.0</td>\n",
       "      <td>0.070128</td>\n",
       "    </tr>\n",
       "    <tr>\n",
       "      <th>max</th>\n",
       "      <td>2.132386</td>\n",
       "      <td>22.057729</td>\n",
       "      <td>2.250210</td>\n",
       "      <td>12.114672</td>\n",
       "      <td>11.095089</td>\n",
       "      <td>6.474115</td>\n",
       "      <td>5.802537</td>\n",
       "      <td>20.007208</td>\n",
       "      <td>3.353525</td>\n",
       "      <td>4.031435</td>\n",
       "      <td>...</td>\n",
       "      <td>27.202839</td>\n",
       "      <td>8.361985</td>\n",
       "      <td>5.466230</td>\n",
       "      <td>1.091435</td>\n",
       "      <td>2.208209</td>\n",
       "      <td>2.745261</td>\n",
       "      <td>3.052358</td>\n",
       "      <td>1.779364</td>\n",
       "      <td>1.0</td>\n",
       "      <td>8.146182</td>\n",
       "    </tr>\n",
       "  </tbody>\n",
       "</table>\n",
       "<p>8 rows × 30 columns</p>\n",
       "</div>"
      ],
      "text/plain": [
       "                  V1             V2             V3             V4  \\\n",
       "count  283884.000000  283884.000000  283884.000000  283884.000000   \n",
       "mean       -4.771948       3.623778      -7.033281       4.542029   \n",
       "std         6.776801       4.286860       7.103720       2.870401   \n",
       "min       -30.552380      -8.402154     -31.103685      -1.313275   \n",
       "25%        -6.036063       1.188226      -8.643489       2.373050   \n",
       "50%        -2.342497       2.717869      -5.075257       4.177147   \n",
       "75%        -0.419200       4.971257      -2.276185       6.348729   \n",
       "max         2.132386      22.057729       2.250210      12.114672   \n",
       "\n",
       "                  V5             V6             V7             V8  \\\n",
       "count  283884.000000  283884.000000  283884.000000  283884.000000   \n",
       "mean       -3.151225      -1.397737      -5.568731       0.570636   \n",
       "std         5.367015       1.856238       7.199458       6.790931   \n",
       "min       -22.105532      -6.406267     -43.557242     -41.044261   \n",
       "25%        -4.792835      -2.501511      -7.965295      -0.195336   \n",
       "50%        -1.522962      -1.424616      -3.034402       0.621508   \n",
       "75%         0.214562      -0.413216      -0.945954       1.764879   \n",
       "max        11.095089       6.474115       5.802537      20.007208   \n",
       "\n",
       "                  V9            V10  ...            V21            V22  \\\n",
       "count  283884.000000  283884.000000  ...  283884.000000  283884.000000   \n",
       "mean       -2.581123      -5.676883  ...       0.713588       0.014049   \n",
       "std         2.498357       4.892370  ...       3.865377       1.493085   \n",
       "min       -13.434066     -24.588262  ...     -22.797604      -8.887017   \n",
       "25%        -3.872383      -7.756698  ...       0.041787      -0.533764   \n",
       "50%        -2.208768      -4.578825  ...       0.592146       0.048434   \n",
       "75%        -0.787850      -2.614184  ...       1.244611       0.617474   \n",
       "max         3.353525       4.031435  ...      27.202839       8.361985   \n",
       "\n",
       "                 V23            V24            V25            V26  \\\n",
       "count  283884.000000  283884.000000  283884.000000  283884.000000   \n",
       "mean       -0.040308      -0.105130       0.041449       0.051648   \n",
       "std         1.578039       0.515053       0.796396       0.471200   \n",
       "min       -19.254328      -2.028024      -4.781606      -1.152671   \n",
       "25%        -0.342175      -0.436809      -0.314348      -0.259416   \n",
       "50%        -0.073135      -0.060795       0.088371       0.004321   \n",
       "75%         0.308378       0.285328       0.456515       0.396733   \n",
       "max         5.466230       1.091435       2.208209       2.745261   \n",
       "\n",
       "                 V27            V28     Class  Normalized_Amount  \n",
       "count  283884.000000  283884.000000  283884.0      283884.000000  \n",
       "mean        0.170575       0.075667       1.0           0.135382  \n",
       "std         1.375368       0.546736       0.0           1.025200  \n",
       "min        -7.263482      -1.869290       1.0          -0.353229  \n",
       "25%        -0.020025      -0.108868       1.0          -0.349231  \n",
       "50%         0.394926       0.146344       1.0          -0.316247  \n",
       "75%         0.826029       0.381152       1.0           0.070128  \n",
       "max         3.052358       1.779364       1.0           8.146182  \n",
       "\n",
       "[8 rows x 30 columns]"
      ]
     },
     "execution_count": 48,
     "metadata": {},
     "output_type": "execute_result"
    }
   ],
   "source": [
    "upsampled_df.describe()"
   ]
  },
  {
   "cell_type": "markdown",
   "metadata": {},
   "source": [
    "### Combine the two dataframes and shuffle the rows"
   ]
  },
  {
   "cell_type": "code",
   "execution_count": 49,
   "metadata": {},
   "outputs": [
    {
     "data": {
      "text/html": [
       "<div>\n",
       "<style scoped>\n",
       "    .dataframe tbody tr th:only-of-type {\n",
       "        vertical-align: middle;\n",
       "    }\n",
       "\n",
       "    .dataframe tbody tr th {\n",
       "        vertical-align: top;\n",
       "    }\n",
       "\n",
       "    .dataframe thead th {\n",
       "        text-align: right;\n",
       "    }\n",
       "</style>\n",
       "<table border=\"1\" class=\"dataframe\">\n",
       "  <thead>\n",
       "    <tr style=\"text-align: right;\">\n",
       "      <th></th>\n",
       "      <th>V1</th>\n",
       "      <th>V2</th>\n",
       "      <th>V3</th>\n",
       "      <th>V4</th>\n",
       "      <th>V5</th>\n",
       "      <th>V6</th>\n",
       "      <th>V7</th>\n",
       "      <th>V8</th>\n",
       "      <th>V9</th>\n",
       "      <th>V10</th>\n",
       "      <th>...</th>\n",
       "      <th>V21</th>\n",
       "      <th>V22</th>\n",
       "      <th>V23</th>\n",
       "      <th>V24</th>\n",
       "      <th>V25</th>\n",
       "      <th>V26</th>\n",
       "      <th>V27</th>\n",
       "      <th>V28</th>\n",
       "      <th>Class</th>\n",
       "      <th>Normalized_Amount</th>\n",
       "    </tr>\n",
       "  </thead>\n",
       "  <tbody>\n",
       "    <tr>\n",
       "      <th>count</th>\n",
       "      <td>568199.000000</td>\n",
       "      <td>568199.000000</td>\n",
       "      <td>568199.000000</td>\n",
       "      <td>568199.000000</td>\n",
       "      <td>568199.000000</td>\n",
       "      <td>568199.000000</td>\n",
       "      <td>568199.000000</td>\n",
       "      <td>568199.000000</td>\n",
       "      <td>568199.000000</td>\n",
       "      <td>568199.000000</td>\n",
       "      <td>...</td>\n",
       "      <td>568199.000000</td>\n",
       "      <td>568199.000000</td>\n",
       "      <td>568199.000000</td>\n",
       "      <td>568199.000000</td>\n",
       "      <td>568199.000000</td>\n",
       "      <td>568199.000000</td>\n",
       "      <td>568199.000000</td>\n",
       "      <td>568199.000000</td>\n",
       "      <td>568199.000000</td>\n",
       "      <td>568199.000000</td>\n",
       "    </tr>\n",
       "    <tr>\n",
       "      <th>mean</th>\n",
       "      <td>-2.380032</td>\n",
       "      <td>1.807377</td>\n",
       "      <td>-3.507883</td>\n",
       "      <td>2.265359</td>\n",
       "      <td>-1.571689</td>\n",
       "      <td>-0.697128</td>\n",
       "      <td>-2.777432</td>\n",
       "      <td>0.284607</td>\n",
       "      <td>-1.287348</td>\n",
       "      <td>-2.831373</td>\n",
       "      <td>...</td>\n",
       "      <td>0.355906</td>\n",
       "      <td>0.007007</td>\n",
       "      <td>-0.020104</td>\n",
       "      <td>-0.052434</td>\n",
       "      <td>0.020673</td>\n",
       "      <td>0.025760</td>\n",
       "      <td>0.085075</td>\n",
       "      <td>0.037739</td>\n",
       "      <td>0.499621</td>\n",
       "      <td>0.067522</td>\n",
       "    </tr>\n",
       "    <tr>\n",
       "      <th>std</th>\n",
       "      <td>5.524596</td>\n",
       "      <td>3.716909</td>\n",
       "      <td>6.219937</td>\n",
       "      <td>3.204942</td>\n",
       "      <td>4.219477</td>\n",
       "      <td>1.759719</td>\n",
       "      <td>5.862702</td>\n",
       "      <td>4.878250</td>\n",
       "      <td>2.320271</td>\n",
       "      <td>4.537489</td>\n",
       "      <td>...</td>\n",
       "      <td>2.801729</td>\n",
       "      <td>1.172987</td>\n",
       "      <td>1.199111</td>\n",
       "      <td>0.564742</td>\n",
       "      <td>0.673027</td>\n",
       "      <td>0.477458</td>\n",
       "      <td>1.016070</td>\n",
       "      <td>0.452915</td>\n",
       "      <td>0.500000</td>\n",
       "      <td>1.014907</td>\n",
       "    </tr>\n",
       "    <tr>\n",
       "      <th>min</th>\n",
       "      <td>-56.407510</td>\n",
       "      <td>-72.715728</td>\n",
       "      <td>-48.325589</td>\n",
       "      <td>-5.683171</td>\n",
       "      <td>-113.743307</td>\n",
       "      <td>-26.160506</td>\n",
       "      <td>-43.557242</td>\n",
       "      <td>-73.216718</td>\n",
       "      <td>-13.434066</td>\n",
       "      <td>-24.588262</td>\n",
       "      <td>...</td>\n",
       "      <td>-34.830382</td>\n",
       "      <td>-10.933144</td>\n",
       "      <td>-44.807735</td>\n",
       "      <td>-2.836627</td>\n",
       "      <td>-10.295397</td>\n",
       "      <td>-2.604551</td>\n",
       "      <td>-22.565679</td>\n",
       "      <td>-15.430084</td>\n",
       "      <td>0.000000</td>\n",
       "      <td>-0.353229</td>\n",
       "    </tr>\n",
       "    <tr>\n",
       "      <th>25%</th>\n",
       "      <td>-2.866364</td>\n",
       "      <td>-0.145954</td>\n",
       "      <td>-5.112924</td>\n",
       "      <td>-0.108624</td>\n",
       "      <td>-1.796308</td>\n",
       "      <td>-1.574565</td>\n",
       "      <td>-3.103570</td>\n",
       "      <td>-0.204185</td>\n",
       "      <td>-2.312468</td>\n",
       "      <td>-4.592390</td>\n",
       "      <td>...</td>\n",
       "      <td>-0.170273</td>\n",
       "      <td>-0.538375</td>\n",
       "      <td>-0.239303</td>\n",
       "      <td>-0.401236</td>\n",
       "      <td>-0.317145</td>\n",
       "      <td>-0.288658</td>\n",
       "      <td>-0.063355</td>\n",
       "      <td>-0.058971</td>\n",
       "      <td>0.000000</td>\n",
       "      <td>-0.347712</td>\n",
       "    </tr>\n",
       "    <tr>\n",
       "      <th>50%</th>\n",
       "      <td>-0.774602</td>\n",
       "      <td>0.961653</td>\n",
       "      <td>-1.359742</td>\n",
       "      <td>1.309580</td>\n",
       "      <td>-0.427444</td>\n",
       "      <td>-0.647378</td>\n",
       "      <td>-0.642716</td>\n",
       "      <td>0.154612</td>\n",
       "      <td>-0.710110</td>\n",
       "      <td>-0.865587</td>\n",
       "      <td>...</td>\n",
       "      <td>0.148284</td>\n",
       "      <td>0.029638</td>\n",
       "      <td>-0.032977</td>\n",
       "      <td>0.005726</td>\n",
       "      <td>0.050524</td>\n",
       "      <td>-0.015451</td>\n",
       "      <td>0.048995</td>\n",
       "      <td>0.034988</td>\n",
       "      <td>0.000000</td>\n",
       "      <td>-0.277426</td>\n",
       "    </tr>\n",
       "    <tr>\n",
       "      <th>75%</th>\n",
       "      <td>1.043025</td>\n",
       "      <td>2.795853</td>\n",
       "      <td>0.343966</td>\n",
       "      <td>4.243069</td>\n",
       "      <td>0.477791</td>\n",
       "      <td>0.080091</td>\n",
       "      <td>0.270212</td>\n",
       "      <td>0.866910</td>\n",
       "      <td>0.172421</td>\n",
       "      <td>0.022679</td>\n",
       "      <td>...</td>\n",
       "      <td>0.650988</td>\n",
       "      <td>0.576637</td>\n",
       "      <td>0.192776</td>\n",
       "      <td>0.373533</td>\n",
       "      <td>0.393032</td>\n",
       "      <td>0.324207</td>\n",
       "      <td>0.454851</td>\n",
       "      <td>0.219021</td>\n",
       "      <td>1.000000</td>\n",
       "      <td>0.046539</td>\n",
       "    </tr>\n",
       "    <tr>\n",
       "      <th>max</th>\n",
       "      <td>2.454930</td>\n",
       "      <td>22.057729</td>\n",
       "      <td>9.382558</td>\n",
       "      <td>16.875344</td>\n",
       "      <td>34.801666</td>\n",
       "      <td>73.301626</td>\n",
       "      <td>120.589494</td>\n",
       "      <td>20.007208</td>\n",
       "      <td>15.594995</td>\n",
       "      <td>23.745136</td>\n",
       "      <td>...</td>\n",
       "      <td>27.202839</td>\n",
       "      <td>10.503090</td>\n",
       "      <td>22.528412</td>\n",
       "      <td>4.584549</td>\n",
       "      <td>7.519589</td>\n",
       "      <td>3.517346</td>\n",
       "      <td>31.612198</td>\n",
       "      <td>33.847808</td>\n",
       "      <td>1.000000</td>\n",
       "      <td>102.362243</td>\n",
       "    </tr>\n",
       "  </tbody>\n",
       "</table>\n",
       "<p>8 rows × 30 columns</p>\n",
       "</div>"
      ],
      "text/plain": [
       "                  V1             V2             V3             V4  \\\n",
       "count  568199.000000  568199.000000  568199.000000  568199.000000   \n",
       "mean       -2.380032       1.807377      -3.507883       2.265359   \n",
       "std         5.524596       3.716909       6.219937       3.204942   \n",
       "min       -56.407510     -72.715728     -48.325589      -5.683171   \n",
       "25%        -2.866364      -0.145954      -5.112924      -0.108624   \n",
       "50%        -0.774602       0.961653      -1.359742       1.309580   \n",
       "75%         1.043025       2.795853       0.343966       4.243069   \n",
       "max         2.454930      22.057729       9.382558      16.875344   \n",
       "\n",
       "                  V5             V6             V7             V8  \\\n",
       "count  568199.000000  568199.000000  568199.000000  568199.000000   \n",
       "mean       -1.571689      -0.697128      -2.777432       0.284607   \n",
       "std         4.219477       1.759719       5.862702       4.878250   \n",
       "min      -113.743307     -26.160506     -43.557242     -73.216718   \n",
       "25%        -1.796308      -1.574565      -3.103570      -0.204185   \n",
       "50%        -0.427444      -0.647378      -0.642716       0.154612   \n",
       "75%         0.477791       0.080091       0.270212       0.866910   \n",
       "max        34.801666      73.301626     120.589494      20.007208   \n",
       "\n",
       "                  V9            V10  ...            V21            V22  \\\n",
       "count  568199.000000  568199.000000  ...  568199.000000  568199.000000   \n",
       "mean       -1.287348      -2.831373  ...       0.355906       0.007007   \n",
       "std         2.320271       4.537489  ...       2.801729       1.172987   \n",
       "min       -13.434066     -24.588262  ...     -34.830382     -10.933144   \n",
       "25%        -2.312468      -4.592390  ...      -0.170273      -0.538375   \n",
       "50%        -0.710110      -0.865587  ...       0.148284       0.029638   \n",
       "75%         0.172421       0.022679  ...       0.650988       0.576637   \n",
       "max        15.594995      23.745136  ...      27.202839      10.503090   \n",
       "\n",
       "                 V23            V24            V25            V26  \\\n",
       "count  568199.000000  568199.000000  568199.000000  568199.000000   \n",
       "mean       -0.020104      -0.052434       0.020673       0.025760   \n",
       "std         1.199111       0.564742       0.673027       0.477458   \n",
       "min       -44.807735      -2.836627     -10.295397      -2.604551   \n",
       "25%        -0.239303      -0.401236      -0.317145      -0.288658   \n",
       "50%        -0.032977       0.005726       0.050524      -0.015451   \n",
       "75%         0.192776       0.373533       0.393032       0.324207   \n",
       "max        22.528412       4.584549       7.519589       3.517346   \n",
       "\n",
       "                 V27            V28          Class  Normalized_Amount  \n",
       "count  568199.000000  568199.000000  568199.000000      568199.000000  \n",
       "mean        0.085075       0.037739       0.499621           0.067522  \n",
       "std         1.016070       0.452915       0.500000           1.014907  \n",
       "min       -22.565679     -15.430084       0.000000          -0.353229  \n",
       "25%        -0.063355      -0.058971       0.000000          -0.347712  \n",
       "50%         0.048995       0.034988       0.000000          -0.277426  \n",
       "75%         0.454851       0.219021       1.000000           0.046539  \n",
       "max        31.612198      33.847808       1.000000         102.362243  \n",
       "\n",
       "[8 rows x 30 columns]"
      ]
     },
     "execution_count": 49,
     "metadata": {},
     "output_type": "execute_result"
    }
   ],
   "source": [
    "method_2_df = pd.concat([upsampled_df, non_fraud_transactions_df])\n",
    "method_2_df = method_2_df.sample(frac=1).reset_index(drop=True)\n",
    "method_2_df.describe()"
   ]
  },
  {
   "cell_type": "code",
   "execution_count": 50,
   "metadata": {},
   "outputs": [
    {
     "name": "stdout",
     "output_type": "stream",
     "text": [
      "('The dimension of method_2_df is :', (568199, 30))\n"
     ]
    }
   ],
   "source": [
    "print('The dimension of method_2_df is :', method_2_df.shape)"
   ]
  },
  {
   "cell_type": "markdown",
   "metadata": {},
   "source": [
    "### Frequency distribution of Class column values in method_2_df"
   ]
  },
  {
   "cell_type": "code",
   "execution_count": 51,
   "metadata": {},
   "outputs": [
    {
     "data": {
      "text/plain": [
       "Text(0,0.5,'Frequency')"
      ]
     },
     "execution_count": 51,
     "metadata": {},
     "output_type": "execute_result"
    },
    {
     "data": {
      "image/png": "[encoded data removed]",
      "text/plain": [
       "<Figure size 432x288 with 1 Axes>"
      ]
     },
     "metadata": {},
     "output_type": "display_data"
    }
   ],
   "source": [
    "sns.countplot('Class', data=method_2_df, palette=None)\n",
    "plt.title(\"Method 2 Frequency distribution plot\")\n",
    "plt.xlabel(\"Class\")\n",
    "plt.ylabel(\"Frequency\")"
   ]
  },
  {
   "cell_type": "code",
   "execution_count": 52,
   "metadata": {},
   "outputs": [
    {
     "name": "stdout",
     "output_type": "stream",
     "text": [
      "('Percentage of non-fraud transactions in method_2_df : ', 50)\n",
      "('Percentage of fraud transactions in method_2_df : ', 49)\n"
     ]
    }
   ],
   "source": [
    "print('Percentage of non-fraud transactions in method_2_df : ',  100*(method_2_df['Class'].value_counts()[0])/ len(method_2_df))\n",
    "print('Percentage of fraud transactions in method_2_df : ',  100*(method_2_df['Class'].value_counts()[1])/ len(method_2_df))"
   ]
  },
  {
   "cell_type": "markdown",
   "metadata": {},
   "source": [
    "#### Split the method_1_df into inputs and target labels for further analysis (X & y split)"
   ]
  },
  {
   "cell_type": "code",
   "execution_count": 53,
   "metadata": {},
   "outputs": [],
   "source": [
    "X = method_2_df.drop(['Class'], axis = 1) \n",
    "y = method_2_df['Class']\n",
    "X_train, X_test, y_train, y_test = train_test_split(X, y, test_size=0.25, random_state=27)\n"
   ]
  },
  {
   "cell_type": "code",
   "execution_count": null,
   "metadata": {},
   "outputs": [],
   "source": []
  },
  {
   "cell_type": "code",
   "execution_count": 54,
   "metadata": {},
   "outputs": [
    {
     "name": "stdout",
     "output_type": "stream",
     "text": [
      "('Number transactions in training dataset for Method 2: ', 426149)\n",
      "('Number transactions in testing dataset  for Method 2: ', 142050)\n",
      "('Total number of transactions  for Method 2 : ', 568199)\n"
     ]
    }
   ],
   "source": [
    "print(\"Number transactions in training dataset for Method 2: \", len(X_train))\n",
    "print(\"Number transactions in testing dataset  for Method 2: \", len(X_test))\n",
    "print(\"Total number of transactions  for Method 2 : \", len(X_train)+len(X_test))"
   ]
  },
  {
   "cell_type": "markdown",
   "metadata": {},
   "source": [
    "## Logistic Regression in Method 2"
   ]
  },
  {
   "cell_type": "code",
   "execution_count": 55,
   "metadata": {},
   "outputs": [
    {
     "name": "stdout",
     "output_type": "stream",
     "text": [
      "Accuracy of Logistic regression classifier on training set: 0.95\n",
      "Accuracy of Logistic regression classifier on test set: 0.95\n"
     ]
    }
   ],
   "source": [
    "clf = LogisticRegression().fit(X_train, y_train)\n",
    "print('Accuracy of Logistic regression classifier on training set: {:.2f}'.format(clf.score(X_train, y_train)))\n",
    "print('Accuracy of Logistic regression classifier on test set: {:.2f}'.format(clf.score(X_test, y_test)))"
   ]
  },
  {
   "cell_type": "markdown",
   "metadata": {},
   "source": [
    "### Confusion Matrix"
   ]
  },
  {
   "cell_type": "code",
   "execution_count": 56,
   "metadata": {},
   "outputs": [
    {
     "name": "stdout",
     "output_type": "stream",
     "text": [
      "('Logistic regression classifier (default settings)\\n', array([[69159,  1674],\n",
      "       [ 5735, 65482]]))\n"
     ]
    }
   ],
   "source": [
    "lr_predicted = clf.predict(X_test)\n",
    "confusion = confusion_matrix(y_test, lr_predicted)\n",
    "print('Logistic regression classifier (default settings)\\n', confusion)"
   ]
  },
  {
   "cell_type": "markdown",
   "metadata": {},
   "source": [
    "### Precision & Recall Scores"
   ]
  },
  {
   "cell_type": "code",
   "execution_count": 57,
   "metadata": {},
   "outputs": [
    {
     "name": "stdout",
     "output_type": "stream",
     "text": [
      "Accuracy: 0.95\n",
      "Precision: 0.98\n",
      "Recall: 0.92\n",
      "F1: 0.95\n"
     ]
    }
   ],
   "source": [
    "print('Accuracy: {:.2f}'.format(accuracy_score(y_test, lr_predicted)))\n",
    "print('Precision: {:.2f}'.format(precision_score(y_test, lr_predicted)))\n",
    "print('Recall: {:.2f}'.format(recall_score(y_test, lr_predicted)))\n",
    "print('F1: {:.2f}'.format(f1_score(y_test, lr_predicted)))"
   ]
  },
  {
   "cell_type": "markdown",
   "metadata": {},
   "source": [
    "### Using GridSearch to find best parameters for Logistic Regression"
   ]
  },
  {
   "cell_type": "code",
   "execution_count": 58,
   "metadata": {},
   "outputs": [
    {
     "name": "stdout",
     "output_type": "stream",
     "text": [
      "('Logistic Regression Cross Validation Score: ', 0.9486001324047846)\n"
     ]
    }
   ],
   "source": [
    "logistic_parameters = {\"penalty\": ['l1', 'l2'], 'C': [0.001, 0.01, 0.1, 1, 10, 100, 1000]}\n",
    "grid = GridSearchCV(LogisticRegression(), logistic_parameters)\n",
    "grid.fit(X_train, y_train)\n",
    "best_log_reg = grid.best_estimator_\n",
    "logistic_score = cross_val_score(best_log_reg, X_train, y_train, cv=5)\n",
    "print('Logistic Regression Cross Validation Score: ', logistic_score.mean())"
   ]
  },
  {
   "cell_type": "code",
   "execution_count": 59,
   "metadata": {},
   "outputs": [
    {
     "name": "stdout",
     "output_type": "stream",
     "text": [
      "('Logistic regression classifier with Cross-validation (default settings)\\n', array([[69168,  1665],\n",
      "       [ 5860, 65357]]))\n"
     ]
    }
   ],
   "source": [
    "lr_predicted = grid.predict(X_test)\n",
    "confusion = confusion_matrix(y_test, lr_predicted)\n",
    "print('Logistic regression classifier with Cross-validation (default settings)\\n', confusion)"
   ]
  },
  {
   "cell_type": "code",
   "execution_count": 60,
   "metadata": {},
   "outputs": [
    {
     "name": "stdout",
     "output_type": "stream",
     "text": [
      "Accuracy: 0.95\n",
      "Precision: 0.98\n",
      "Recall: 0.92\n",
      "F1: 0.95\n"
     ]
    }
   ],
   "source": [
    "print('Accuracy: {:.2f}'.format(accuracy_score(y_test, lr_predicted)))\n",
    "print('Precision: {:.2f}'.format(precision_score(y_test, lr_predicted)))\n",
    "print('Recall: {:.2f}'.format(recall_score(y_test, lr_predicted)))\n",
    "print('F1: {:.2f}'.format(f1_score(y_test, lr_predicted)))"
   ]
  },
  {
   "cell_type": "code",
   "execution_count": null,
   "metadata": {},
   "outputs": [],
   "source": []
  },
  {
   "cell_type": "markdown",
   "metadata": {},
   "source": [
    "# Naive Bayes in Method 2"
   ]
  },
  {
   "cell_type": "code",
   "execution_count": 61,
   "metadata": {},
   "outputs": [
    {
     "name": "stdout",
     "output_type": "stream",
     "text": [
      "Accuracy of GaussianNB classifier on training set: 0.92\n",
      "Accuracy of GaussianNB classifier on test set: 0.92\n"
     ]
    }
   ],
   "source": [
    "nbclf = GaussianNB().fit(X_train, y_train)\n",
    "print('Accuracy of GaussianNB classifier on training set: {:.2f}'.format(nbclf.score(X_train, y_train)))\n",
    "print('Accuracy of GaussianNB classifier on test set: {:.2f}'.format(nbclf.score(X_test, y_test)))"
   ]
  },
  {
   "cell_type": "code",
   "execution_count": null,
   "metadata": {},
   "outputs": [],
   "source": []
  },
  {
   "cell_type": "markdown",
   "metadata": {},
   "source": [
    "### Neural Net in Method 2"
   ]
  },
  {
   "cell_type": "code",
   "execution_count": null,
   "metadata": {},
   "outputs": [],
   "source": [
    "X_train, X_test, y_train, y_test = train_test_split(X, y, random_state = 0)\n",
    "X_train_scaled = scaler.fit_transform(X_train)\n",
    "X_test_scaled = scaler.transform(X_test)\n",
    "\n",
    "clf = MLPClassifier(hidden_layer_sizes = [100, 100], alpha = 5.0,\n",
    "                   random_state = 0, solver='lbfgs').fit(X_train_scaled, y_train)\n",
    "\n",
    "print('Accuracy of NN classifier on training set: {:.2f}'.format(clf.score(X_train_scaled, y_train)))\n",
    "print('Accuracy of NN classifier on test set: {:.2f}'.format(clf.score(X_test_scaled, y_test)))"
   ]
  },
  {
   "cell_type": "markdown",
   "metadata": {},
   "source": [
    "### Summary\n",
    "\n",
    "This is a very basic Kernel which gives idea about how to deal with imbalanced data sets.\n",
    "\n",
    "Of all the three classification algorithms used, Logistic Regression is found to be better when dealing with imbalanced data.\n",
    "\n",
    "The Kernel can be improved by bringing in more classification algorithms, more hyper tuning parameters to existing algorithms etc.**"
   ]
  },
  {
   "cell_type": "code",
   "execution_count": null,
   "metadata": {},
   "outputs": [],
   "source": []
  }
 ],
 "metadata": {
  "kernelspec": {
   "display_name": "conda_amazonei_mxnet_p27",
   "language": "python",
   "name": "conda_amazonei_mxnet_p27"
  },
  "language_info": {
   "codemirror_mode": {
    "name": "ipython",
    "version": 2
   },
   "file_extension": ".py",
   "mimetype": "text/x-python",
   "name": "python",
   "nbconvert_exporter": "python",
   "pygments_lexer": "ipython2",
   "version": "2.7.15"
  }
 },
 "nbformat": 4,
 "nbformat_minor": 4
}
